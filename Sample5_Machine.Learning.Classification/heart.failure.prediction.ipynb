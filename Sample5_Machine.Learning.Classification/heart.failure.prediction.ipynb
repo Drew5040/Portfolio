{
 "cells": [
  {
   "cell_type": "markdown",
   "id": "67d013df",
   "metadata": {},
   "source": [
    "## Install Packages into Virtual Environment"
   ]
  },
  {
   "cell_type": "code",
   "execution_count": null,
   "id": "4fd10efa",
   "metadata": {},
   "outputs": [],
   "source": [
    "!pip install pandas numpy scipy statsmodels seaborn matplotlib scikit-learn scikit-optimize"
   ]
  },
  {
   "cell_type": "markdown",
   "id": "5d091506",
   "metadata": {},
   "source": [
    "## I. Imports & Set Options"
   ]
  },
  {
   "cell_type": "code",
   "execution_count": 15,
   "id": "a01e709c",
   "metadata": {},
   "outputs": [],
   "source": [
    "import pandas as pd\n",
    "import numpy as np\n",
    "import seaborn as sns\n",
    "import matplotlib.pyplot as plt\n",
    "\n",
    "pd.set_option('display.max.columns', None)\n",
    "pd.set_option('display.precision', 2)"
   ]
  },
  {
   "cell_type": "markdown",
   "id": "b78303a6",
   "metadata": {},
   "source": [
    "## II. Import Dataset"
   ]
  },
  {
   "cell_type": "code",
   "execution_count": 16,
   "id": "fd73cace",
   "metadata": {},
   "outputs": [
    {
     "name": "stdout",
     "output_type": "stream",
     "text": [
      "C:\\Users\\andre\\Job Portfolio Projects\\Gaussian Naive Bayes\\archive\n"
     ]
    }
   ],
   "source": [
    "path = 'C:/Users/andre/Job Portfolio Projects/Gaussian Naive Bayes/archive'\n",
    "\n",
    "%cd $path"
   ]
  },
  {
   "cell_type": "code",
   "execution_count": 17,
   "id": "f3fe7d51",
   "metadata": {},
   "outputs": [
    {
     "data": {
      "text/html": [
       "<div>\n",
       "<style scoped>\n",
       "    .dataframe tbody tr th:only-of-type {\n",
       "        vertical-align: middle;\n",
       "    }\n",
       "\n",
       "    .dataframe tbody tr th {\n",
       "        vertical-align: top;\n",
       "    }\n",
       "\n",
       "    .dataframe thead th {\n",
       "        text-align: right;\n",
       "    }\n",
       "</style>\n",
       "<table border=\"1\" class=\"dataframe\">\n",
       "  <thead>\n",
       "    <tr style=\"text-align: right;\">\n",
       "      <th></th>\n",
       "      <th>Age</th>\n",
       "      <th>Sex</th>\n",
       "      <th>ChestPainType</th>\n",
       "      <th>RestingBP</th>\n",
       "      <th>Cholesterol</th>\n",
       "      <th>FastingBS</th>\n",
       "      <th>RestingECG</th>\n",
       "      <th>MaxHR</th>\n",
       "      <th>ExerciseAngina</th>\n",
       "      <th>Oldpeak</th>\n",
       "      <th>ST_Slope</th>\n",
       "      <th>HeartDisease</th>\n",
       "    </tr>\n",
       "  </thead>\n",
       "  <tbody>\n",
       "    <tr>\n",
       "      <th>0</th>\n",
       "      <td>40</td>\n",
       "      <td>M</td>\n",
       "      <td>ATA</td>\n",
       "      <td>140</td>\n",
       "      <td>289</td>\n",
       "      <td>0</td>\n",
       "      <td>Normal</td>\n",
       "      <td>172</td>\n",
       "      <td>N</td>\n",
       "      <td>0.0</td>\n",
       "      <td>Up</td>\n",
       "      <td>0</td>\n",
       "    </tr>\n",
       "    <tr>\n",
       "      <th>1</th>\n",
       "      <td>49</td>\n",
       "      <td>F</td>\n",
       "      <td>NAP</td>\n",
       "      <td>160</td>\n",
       "      <td>180</td>\n",
       "      <td>0</td>\n",
       "      <td>Normal</td>\n",
       "      <td>156</td>\n",
       "      <td>N</td>\n",
       "      <td>1.0</td>\n",
       "      <td>Flat</td>\n",
       "      <td>1</td>\n",
       "    </tr>\n",
       "    <tr>\n",
       "      <th>2</th>\n",
       "      <td>37</td>\n",
       "      <td>M</td>\n",
       "      <td>ATA</td>\n",
       "      <td>130</td>\n",
       "      <td>283</td>\n",
       "      <td>0</td>\n",
       "      <td>ST</td>\n",
       "      <td>98</td>\n",
       "      <td>N</td>\n",
       "      <td>0.0</td>\n",
       "      <td>Up</td>\n",
       "      <td>0</td>\n",
       "    </tr>\n",
       "    <tr>\n",
       "      <th>3</th>\n",
       "      <td>48</td>\n",
       "      <td>F</td>\n",
       "      <td>ASY</td>\n",
       "      <td>138</td>\n",
       "      <td>214</td>\n",
       "      <td>0</td>\n",
       "      <td>Normal</td>\n",
       "      <td>108</td>\n",
       "      <td>Y</td>\n",
       "      <td>1.5</td>\n",
       "      <td>Flat</td>\n",
       "      <td>1</td>\n",
       "    </tr>\n",
       "    <tr>\n",
       "      <th>4</th>\n",
       "      <td>54</td>\n",
       "      <td>M</td>\n",
       "      <td>NAP</td>\n",
       "      <td>150</td>\n",
       "      <td>195</td>\n",
       "      <td>0</td>\n",
       "      <td>Normal</td>\n",
       "      <td>122</td>\n",
       "      <td>N</td>\n",
       "      <td>0.0</td>\n",
       "      <td>Up</td>\n",
       "      <td>0</td>\n",
       "    </tr>\n",
       "  </tbody>\n",
       "</table>\n",
       "</div>"
      ],
      "text/plain": [
       "   Age Sex ChestPainType  RestingBP  Cholesterol  FastingBS RestingECG  MaxHR  \\\n",
       "0   40   M           ATA        140          289          0     Normal    172   \n",
       "1   49   F           NAP        160          180          0     Normal    156   \n",
       "2   37   M           ATA        130          283          0         ST     98   \n",
       "3   48   F           ASY        138          214          0     Normal    108   \n",
       "4   54   M           NAP        150          195          0     Normal    122   \n",
       "\n",
       "  ExerciseAngina  Oldpeak ST_Slope  HeartDisease  \n",
       "0              N      0.0       Up             0  \n",
       "1              N      1.0     Flat             1  \n",
       "2              N      0.0       Up             0  \n",
       "3              Y      1.5     Flat             1  \n",
       "4              N      0.0       Up             0  "
      ]
     },
     "execution_count": 17,
     "metadata": {},
     "output_type": "execute_result"
    }
   ],
   "source": [
    "# Import data, make a copy of the original\n",
    "\n",
    "df = pd.read_csv('heart.csv')\n",
    "dfc1 = df.copy()\n",
    "dfc1.head()"
   ]
  },
  {
   "cell_type": "markdown",
   "id": "0a7d99d1",
   "metadata": {},
   "source": [
    "## III. Check Characteristics of Dataset"
   ]
  },
  {
   "cell_type": "code",
   "execution_count": 18,
   "id": "7e4302ed",
   "metadata": {},
   "outputs": [
    {
     "name": "stdout",
     "output_type": "stream",
     "text": [
      "<class 'pandas.core.frame.DataFrame'>\n",
      "RangeIndex: 918 entries, 0 to 917\n",
      "Data columns (total 12 columns):\n",
      " #   Column          Non-Null Count  Dtype  \n",
      "---  ------          --------------  -----  \n",
      " 0   Age             918 non-null    int64  \n",
      " 1   Sex             918 non-null    object \n",
      " 2   ChestPainType   918 non-null    object \n",
      " 3   RestingBP       918 non-null    int64  \n",
      " 4   Cholesterol     918 non-null    int64  \n",
      " 5   FastingBS       918 non-null    int64  \n",
      " 6   RestingECG      918 non-null    object \n",
      " 7   MaxHR           918 non-null    int64  \n",
      " 8   ExerciseAngina  918 non-null    object \n",
      " 9   Oldpeak         918 non-null    float64\n",
      " 10  ST_Slope        918 non-null    object \n",
      " 11  HeartDisease    918 non-null    int64  \n",
      "dtypes: float64(1), int64(6), object(5)\n",
      "memory usage: 86.2+ KB\n"
     ]
    }
   ],
   "source": [
    "# Get info & characteristics of dataset\n",
    "\n",
    "dfc1.info()"
   ]
  },
  {
   "cell_type": "code",
   "execution_count": 4,
   "id": "812cf2d9",
   "metadata": {},
   "outputs": [
    {
     "name": "stdout",
     "output_type": "stream",
     "text": [
      "<class 'pandas.core.frame.DataFrame'>\n",
      "RangeIndex: 918 entries, 0 to 917\n",
      "Data columns (total 12 columns):\n",
      " #   Column          Non-Null Count  Dtype   \n",
      "---  ------          --------------  -----   \n",
      " 0   Age             918 non-null    int64   \n",
      " 1   Sex             918 non-null    category\n",
      " 2   ChestPainType   918 non-null    category\n",
      " 3   RestingBP       918 non-null    int64   \n",
      " 4   Cholesterol     918 non-null    int64   \n",
      " 5   FastingBS       918 non-null    category\n",
      " 6   RestingECG      918 non-null    category\n",
      " 7   MaxHR           918 non-null    int64   \n",
      " 8   ExerciseAngina  918 non-null    category\n",
      " 9   Oldpeak         918 non-null    float64 \n",
      " 10  ST_Slope        918 non-null    category\n",
      " 11  HeartDisease    918 non-null    int64   \n",
      "dtypes: category(6), float64(1), int64(5)\n",
      "memory usage: 49.4 KB\n"
     ]
    }
   ],
   "source": [
    "# Convert the 'object' data types to actual data type to save space in memory\n",
    "# We saved 30.7 KB, almost 50%\n",
    "\n",
    "categorical_lst = ['Sex', 'ChestPainType', 'FastingBS', 'RestingECG', 'ExerciseAngina', 'ST_Slope', 'HeartDisease']\n",
    "\n",
    "for i, j in enumerate(categorical_lst):\n",
    "    if i < 6:\n",
    "        dfc1[j] = pd.Categorical(dfc1[j])\n",
    "    \n",
    "dfc1.info() \n"
   ]
  },
  {
   "cell_type": "markdown",
   "id": "42f11296",
   "metadata": {},
   "source": [
    "## III. Split Dataset Into Categorical & Continuous Variables"
   ]
  },
  {
   "cell_type": "code",
   "execution_count": 19,
   "id": "d7a40be8",
   "metadata": {},
   "outputs": [
    {
     "data": {
      "text/html": [
       "<div>\n",
       "<style scoped>\n",
       "    .dataframe tbody tr th:only-of-type {\n",
       "        vertical-align: middle;\n",
       "    }\n",
       "\n",
       "    .dataframe tbody tr th {\n",
       "        vertical-align: top;\n",
       "    }\n",
       "\n",
       "    .dataframe thead th {\n",
       "        text-align: right;\n",
       "    }\n",
       "</style>\n",
       "<table border=\"1\" class=\"dataframe\">\n",
       "  <thead>\n",
       "    <tr style=\"text-align: right;\">\n",
       "      <th></th>\n",
       "      <th>Sex</th>\n",
       "      <th>ChestPainType</th>\n",
       "      <th>FastingBS</th>\n",
       "      <th>RestingECG</th>\n",
       "      <th>ExerciseAngina</th>\n",
       "      <th>ST_Slope</th>\n",
       "      <th>HeartDisease</th>\n",
       "    </tr>\n",
       "  </thead>\n",
       "  <tbody>\n",
       "    <tr>\n",
       "      <th>0</th>\n",
       "      <td>M</td>\n",
       "      <td>ATA</td>\n",
       "      <td>0</td>\n",
       "      <td>Normal</td>\n",
       "      <td>N</td>\n",
       "      <td>Up</td>\n",
       "      <td>0</td>\n",
       "    </tr>\n",
       "    <tr>\n",
       "      <th>1</th>\n",
       "      <td>F</td>\n",
       "      <td>NAP</td>\n",
       "      <td>0</td>\n",
       "      <td>Normal</td>\n",
       "      <td>N</td>\n",
       "      <td>Flat</td>\n",
       "      <td>1</td>\n",
       "    </tr>\n",
       "    <tr>\n",
       "      <th>2</th>\n",
       "      <td>M</td>\n",
       "      <td>ATA</td>\n",
       "      <td>0</td>\n",
       "      <td>ST</td>\n",
       "      <td>N</td>\n",
       "      <td>Up</td>\n",
       "      <td>0</td>\n",
       "    </tr>\n",
       "    <tr>\n",
       "      <th>3</th>\n",
       "      <td>F</td>\n",
       "      <td>ASY</td>\n",
       "      <td>0</td>\n",
       "      <td>Normal</td>\n",
       "      <td>Y</td>\n",
       "      <td>Flat</td>\n",
       "      <td>1</td>\n",
       "    </tr>\n",
       "    <tr>\n",
       "      <th>4</th>\n",
       "      <td>M</td>\n",
       "      <td>NAP</td>\n",
       "      <td>0</td>\n",
       "      <td>Normal</td>\n",
       "      <td>N</td>\n",
       "      <td>Up</td>\n",
       "      <td>0</td>\n",
       "    </tr>\n",
       "  </tbody>\n",
       "</table>\n",
       "</div>"
      ],
      "text/plain": [
       "  Sex ChestPainType  FastingBS RestingECG ExerciseAngina ST_Slope  \\\n",
       "0   M           ATA          0     Normal              N       Up   \n",
       "1   F           NAP          0     Normal              N     Flat   \n",
       "2   M           ATA          0         ST              N       Up   \n",
       "3   F           ASY          0     Normal              Y     Flat   \n",
       "4   M           NAP          0     Normal              N       Up   \n",
       "\n",
       "   HeartDisease  \n",
       "0             0  \n",
       "1             1  \n",
       "2             0  \n",
       "3             1  \n",
       "4             0  "
      ]
     },
     "execution_count": 19,
     "metadata": {},
     "output_type": "execute_result"
    }
   ],
   "source": [
    "# Create a seperate & smaller dataframe for categorical variables\n",
    "\n",
    "dfc2a = pd.DataFrame(dfc1, columns=categorical_lst, copy=True)\n",
    "dfc2a.head()"
   ]
  },
  {
   "cell_type": "code",
   "execution_count": 20,
   "id": "839500b8",
   "metadata": {},
   "outputs": [
    {
     "data": {
      "text/html": [
       "<div>\n",
       "<style scoped>\n",
       "    .dataframe tbody tr th:only-of-type {\n",
       "        vertical-align: middle;\n",
       "    }\n",
       "\n",
       "    .dataframe tbody tr th {\n",
       "        vertical-align: top;\n",
       "    }\n",
       "\n",
       "    .dataframe thead th {\n",
       "        text-align: right;\n",
       "    }\n",
       "</style>\n",
       "<table border=\"1\" class=\"dataframe\">\n",
       "  <thead>\n",
       "    <tr style=\"text-align: right;\">\n",
       "      <th></th>\n",
       "      <th>Age</th>\n",
       "      <th>RestingBP</th>\n",
       "      <th>Cholesterol</th>\n",
       "      <th>MaxHR</th>\n",
       "      <th>Oldpeak</th>\n",
       "      <th>HeartDisease</th>\n",
       "    </tr>\n",
       "  </thead>\n",
       "  <tbody>\n",
       "    <tr>\n",
       "      <th>0</th>\n",
       "      <td>40</td>\n",
       "      <td>140</td>\n",
       "      <td>289</td>\n",
       "      <td>172</td>\n",
       "      <td>0.0</td>\n",
       "      <td>0</td>\n",
       "    </tr>\n",
       "    <tr>\n",
       "      <th>1</th>\n",
       "      <td>49</td>\n",
       "      <td>160</td>\n",
       "      <td>180</td>\n",
       "      <td>156</td>\n",
       "      <td>1.0</td>\n",
       "      <td>1</td>\n",
       "    </tr>\n",
       "    <tr>\n",
       "      <th>2</th>\n",
       "      <td>37</td>\n",
       "      <td>130</td>\n",
       "      <td>283</td>\n",
       "      <td>98</td>\n",
       "      <td>0.0</td>\n",
       "      <td>0</td>\n",
       "    </tr>\n",
       "    <tr>\n",
       "      <th>3</th>\n",
       "      <td>48</td>\n",
       "      <td>138</td>\n",
       "      <td>214</td>\n",
       "      <td>108</td>\n",
       "      <td>1.5</td>\n",
       "      <td>1</td>\n",
       "    </tr>\n",
       "    <tr>\n",
       "      <th>4</th>\n",
       "      <td>54</td>\n",
       "      <td>150</td>\n",
       "      <td>195</td>\n",
       "      <td>122</td>\n",
       "      <td>0.0</td>\n",
       "      <td>0</td>\n",
       "    </tr>\n",
       "  </tbody>\n",
       "</table>\n",
       "</div>"
      ],
      "text/plain": [
       "   Age  RestingBP  Cholesterol  MaxHR  Oldpeak  HeartDisease\n",
       "0   40        140          289    172      0.0             0\n",
       "1   49        160          180    156      1.0             1\n",
       "2   37        130          283     98      0.0             0\n",
       "3   48        138          214    108      1.5             1\n",
       "4   54        150          195    122      0.0             0"
      ]
     },
     "execution_count": 20,
     "metadata": {},
     "output_type": "execute_result"
    }
   ],
   "source": [
    "# Create a seperate & smaller dataframe for our chosen variables. Use 'copy=True' so changes wont affect original\n",
    "\n",
    "continuous_lst = ['Age', 'RestingBP', 'Cholesterol', 'MaxHR', 'Oldpeak', 'HeartDisease']\n",
    "\n",
    "dfc2b = pd.DataFrame(dfc1, columns=continuous_lst, copy=True)\n",
    "dfc2b.head()"
   ]
  },
  {
   "cell_type": "markdown",
   "id": "18a9967c",
   "metadata": {},
   "source": [
    "## IV. Check Model Assumptions"
   ]
  },
  {
   "cell_type": "code",
   "execution_count": null,
   "id": "31987956",
   "metadata": {},
   "outputs": [],
   "source": [
    "# Check the Gaussian Naive-Bayes Assumptions\n",
    "# - a. Normally distributed\n",
    "# - b. Independent\n",
    "# - c. Equal Variance"
   ]
  },
  {
   "cell_type": "markdown",
   "id": "53468023",
   "metadata": {},
   "source": [
    "### a. Normally Distributed"
   ]
  },
  {
   "cell_type": "code",
   "execution_count": 21,
   "id": "f49df19c",
   "metadata": {},
   "outputs": [
    {
     "name": "stdout",
     "output_type": "stream",
     "text": [
      "0 Age\n",
      "1 RestingBP\n",
      "2 Cholesterol\n",
      "3 MaxHR\n",
      "4 Oldpeak\n",
      "5 HeartDisease\n"
     ]
    },
    {
     "data": {
      "image/png": "[encoded data removed]",
      "text/plain": [
       "<Figure size 1700x500 with 5 Axes>"
      ]
     },
     "metadata": {},
     "output_type": "display_data"
    }
   ],
   "source": [
    "# visualize the distributions of each continuous variable before scaling\n",
    "# OldPeak: is the measurement in MM of the downward depression of the ST segment relative to the baseline\n",
    "# The distributions look relatively normally distributed\n",
    "\n",
    "def histograms(features):\n",
    "    fig, ax = plt.subplots(nrows = 1, ncols = 5, figsize=(17, 5))\n",
    "    ax = ax.flatten()\n",
    "    colors = ['#FF4C4C', '#8CD790', '#4D7EA8', '#E97451',  '#F2B134']\n",
    "    for i, feature in enumerate(features):\n",
    "        print(i, feature)\n",
    "        if feature != 'HeartDisease':\n",
    "            ax[i].hist(dfc1[feature], color=colors[i])\n",
    "            ax[i].set_title(feature)\n",
    "    plt.show()\n",
    "    \n",
    "histograms(continuous_lst)"
   ]
  },
  {
   "cell_type": "code",
   "execution_count": 22,
   "id": "1c8328e1",
   "metadata": {},
   "outputs": [
    {
     "name": "stdout",
     "output_type": "stream",
     "text": [
      "'Age'\n",
      "Normal-Test Stat:  14.387278957845862\n",
      "p-value:  0.0007513496172395723\n",
      "\n",
      "'RestingBP'\n",
      "Normal-Test Stat:  80.15332964094773\n",
      "p-value:  3.934826751861588e-18\n",
      "\n",
      "'Cholesterol'\n",
      "Normal-Test Stat:  50.09695629245791\n",
      "p-value:  1.3230740789245988e-11\n",
      "\n",
      "'MaxHR'\n",
      "Normal-Test Stat:  15.83254859125781\n",
      "p-value:  0.0003647587814373257\n",
      "\n",
      "'Oldpeak'\n",
      "Normal-Test Stat:  139.06085036801633\n",
      "p-value:  6.357992601318172e-31\n",
      "\n"
     ]
    }
   ],
   "source": [
    "# Normaltest(X) is based on skewness & kutosis\n",
    "# Reject the Null, data is not normal\n",
    "\n",
    "from scipy.stats import normaltest\n",
    "\n",
    "stat1, p1 = normaltest(dfc2b)\n",
    "\n",
    "for i, feature in enumerate(dfc2b):\n",
    "    if feature != 'HeartDisease':\n",
    "        print(f\"'{feature}'\")\n",
    "        print('Normal-Test Stat: ', stat1[i])\n",
    "        print('p-value: ', p1[i], end='\\n\\n')\n",
    "   \n"
   ]
  },
  {
   "cell_type": "code",
   "execution_count": 23,
   "id": "2f248274",
   "metadata": {},
   "outputs": [
    {
     "name": "stdout",
     "output_type": "stream",
     "text": [
      "'Age'\n",
      "Shapiro-Wilk Stat:  0.9910141825675964\n",
      "p-value:  2.170366860809736e-05\n",
      "\n",
      "'RestingBP'\n",
      "Shapiro-Wilk Stat:  0.9580429196357727\n",
      "p-value:  1.494997270036079e-15\n",
      "\n",
      "'Cholesterol'\n",
      "Shapiro-Wilk Stat:  0.8705925941467285\n",
      "p-value:  6.972955704658339e-27\n",
      "\n",
      "'MaxHR'\n",
      "Shapiro-Wilk Stat:  0.9926717877388\n",
      "p-value:  0.0001683219597907737\n",
      "\n",
      "'Oldpeak'\n",
      "Shapiro-Wilk Stat:  0.8598772287368774\n",
      "p-value:  8.26949925434661e-28\n",
      "\n"
     ]
    }
   ],
   "source": [
    "# Shapiro-Wilk is based on the comparison of the observations and expected distribution\n",
    "# Reject the Null, data is not normal\n",
    "\n",
    "from scipy.stats import shapiro\n",
    "\n",
    "for i, feature in enumerate(dfc2b):\n",
    "    stat2, p2 = shapiro(dfc2b[continuous_lst[i]])\n",
    "    if feature != 'HeartDisease':\n",
    "        print(f\"'{feature}'\")\n",
    "        print('Shapiro-Wilk Stat: ', stat2)\n",
    "        print('p-value: ', p2, end='\\n\\n')\n"
   ]
  },
  {
   "cell_type": "markdown",
   "id": "281e302c",
   "metadata": {},
   "source": [
    "### b. Independence for Continuous Input & Binary Output"
   ]
  },
  {
   "cell_type": "code",
   "execution_count": 24,
   "id": "0e098395",
   "metadata": {},
   "outputs": [
    {
     "data": {
      "text/plain": [
       "<Axes: >"
      ]
     },
     "execution_count": 24,
     "metadata": {},
     "output_type": "execute_result"
    },
    {
     "data": {
      "image/png": "[encoded data removed]",
      "text/plain": [
       "<Figure size 640x480 with 2 Axes>"
      ]
     },
     "metadata": {},
     "output_type": "display_data"
    }
   ],
   "source": [
    "# - Correlation Matrix\n",
    "# - Gives us an idea of the strength of the relationships between 'HeartDisease' and the continuous variables\n",
    "# - It also gives us an idea of the multicolinearity present\n",
    "\n",
    "corr_matrix = dfc2b.corr()\n",
    "sns.heatmap(corr_matrix)"
   ]
  },
  {
   "cell_type": "code",
   "execution_count": 25,
   "id": "4f457a5f",
   "metadata": {},
   "outputs": [
    {
     "name": "stdout",
     "output_type": "stream",
     "text": [
      "0 'Age'\n",
      "VIF: 30.048958230190813\n",
      "\n",
      "1 'RestingBP'\n",
      "VIF: 43.05227552605272\n",
      "\n",
      "2 'Cholesterol'\n",
      "VIF: 4.880954015444664\n",
      "\n",
      "3 'MaxHR'\n",
      "VIF: 20.456755555223047\n",
      "\n",
      "4 'Oldpeak'\n",
      "VIF: 2.1167386707432434\n",
      "\n",
      "5 'HeartDisease'\n",
      "VIF: 3.1137398605801807\n",
      "\n"
     ]
    }
   ],
   "source": [
    "# - VIF: Variance inflation factor\n",
    "# - If VIF over 5, suggests multicolinearity\n",
    "\n",
    "from statsmodels.stats.outliers_influence import variance_inflation_factor\n",
    "\n",
    "for i, feature in enumerate(dfc2b):\n",
    "    vif = variance_inflation_factor(dfc2b.values, i)\n",
    "    print(f\"{i} '{feature}'\")\n",
    "    print(f'VIF: {vif}',  end='\\n\\n')\n"
   ]
  },
  {
   "cell_type": "markdown",
   "id": "923f9054",
   "metadata": {},
   "source": [
    "### c. Equal Variance for Continuous Input & Binary Output"
   ]
  },
  {
   "cell_type": "code",
   "execution_count": 26,
   "id": "946927a3",
   "metadata": {},
   "outputs": [
    {
     "name": "stdout",
     "output_type": "stream",
     "text": [
      "'Age'\n",
      "Bartlett Stat: 4128.167288077162\n",
      "p-value: 0.0\n",
      "\n",
      "'RestingBP'\n",
      "Bartlett Stat: 5360.505671594429\n",
      "p-value: 0.0\n",
      "\n",
      "'Cholesterol'\n",
      "Bartlett Stat: 8615.235590247594\n",
      "p-value: 0.0\n",
      "\n",
      "'MaxHR'\n",
      "Bartlett Stat: 5943.851214613202\n",
      "p-value: 0.0\n",
      "\n",
      "'Oldpeak'\n",
      "Bartlett Stat: 488.37092476434\n",
      "p-value: 3.2231574631283407e-108\n",
      "\n"
     ]
    }
   ],
   "source": [
    "# - Check if distributions have equal variance\n",
    "# - Reject Null, no equal variance\n",
    "\n",
    "from scipy.stats import bartlett\n",
    "\n",
    "# Perform Bartlett's test\n",
    "for i, feature in enumerate(dfc2b):\n",
    "    if feature != 'HeartDisease':\n",
    "        stat3, p3 = bartlett(dfc2b[feature].values, dfc2b['HeartDisease'].values)\n",
    "        print(f\"'{feature}'\")\n",
    "        print(f'Bartlett Stat: {stat3}')\n",
    "        print(f'p-value: {p3}', end='\\n\\n')"
   ]
  },
  {
   "cell_type": "code",
   "execution_count": 27,
   "id": "c306b14e",
   "metadata": {},
   "outputs": [
    {
     "name": "stdout",
     "output_type": "stream",
     "text": [
      "'Age'\n",
      "Shapiro-Wilk Stat: 1453.4960779350117\n",
      "p-value: 1.0444017411795531e-234\n",
      "\n",
      "'RestingBP'\n",
      "Shapiro-Wilk Stat: 1069.455098909459\n",
      "p-value: 3.3937503883075907e-185\n",
      "\n",
      "'Cholesterol'\n",
      "Shapiro-Wilk Stat: 873.444641470111\n",
      "p-value: 2.4853925396049344e-157\n",
      "\n",
      "'MaxHR'\n",
      "Shapiro-Wilk Stat: 1839.6882049265666\n",
      "p-value: 5.7346653981515754e-279\n",
      "\n",
      "'Oldpeak'\n",
      "Shapiro-Wilk Stat: 221.73717173657982\n",
      "p-value: 1.9848087558491322e-47\n",
      "\n"
     ]
    }
   ],
   "source": [
    "# - Reject the Null, no equal variance\n",
    "\n",
    "from scipy.stats import levene\n",
    "\n",
    "for idx, feature in enumerate(dfc2b):\n",
    "    if feature != 'HeartDisease':\n",
    "        stat4, p4 = levene(dfc2b[feature].values, dfc2b['HeartDisease'].values)\n",
    "        print(f\"'{feature}'\")\n",
    "        print(f'Shapiro-Wilk Stat: {stat4}')\n",
    "        print(f'p-value: {p4}', end='\\n\\n')"
   ]
  },
  {
   "cell_type": "markdown",
   "id": "51fd92ee",
   "metadata": {},
   "source": [
    "### d. Independence for Categorical Input & Categorical Output"
   ]
  },
  {
   "cell_type": "code",
   "execution_count": 28,
   "id": "61cfc11b",
   "metadata": {},
   "outputs": [
    {
     "name": "stdout",
     "output_type": "stream",
     "text": [
      "'Sex'\n",
      "Degrees of Freedom: 1\n",
      "Chi-square: 84.14510134633775\n",
      "p-value: 4.597617450809164e-20\n",
      "\n",
      "'ChestPainType'\n",
      "Degrees of Freedom: 3\n",
      "Chi-square: 268.06723902181767\n",
      "p-value: 8.08372842808765e-58\n",
      "\n",
      "'FastingBS'\n",
      "Degrees of Freedom: 1\n",
      "Chi-square: 64.3206790933594\n",
      "p-value: 1.0573018731809955e-15\n",
      "\n",
      "'RestingECG'\n",
      "Degrees of Freedom: 2\n",
      "Chi-square: 10.931469339140978\n",
      "p-value: 0.0042292328167544925\n",
      "\n",
      "'ExerciseAngina'\n",
      "Degrees of Freedom: 1\n",
      "Chi-square: 222.25938271530583\n",
      "p-value: 2.907808387659878e-50\n",
      "\n",
      "'ST_Slope'\n",
      "Degrees of Freedom: 2\n",
      "Chi-square: 355.91844319207905\n",
      "p-value: 5.167637689470128e-78\n",
      "\n"
     ]
    }
   ],
   "source": [
    "# - Check for independence between inputs & target\n",
    "# - Reject Null, no independence\n",
    "\n",
    "import pandas as pd\n",
    "from scipy.stats import chi2_contingency\n",
    "\n",
    "for i, feature in enumerate(dfc2a):\n",
    "    if feature != 'HeartDisease':\n",
    "        contingency_table = pd.crosstab(dfc2a[feature], dfc2a['HeartDisease'])\n",
    "        chi2, pval, dof, expected = chi2_contingency(contingency_table)\n",
    "    \n",
    "        print(f\"'{feature}'\")\n",
    "        print(f'Degrees of Freedom: {dof}')\n",
    "        print(f\"Chi-square: {chi2}\")\n",
    "        print(f\"p-value: {pval}\", end='\\n\\n')\n",
    "        "
   ]
  },
  {
   "cell_type": "markdown",
   "id": "72b85948",
   "metadata": {},
   "source": [
    "## V. Check Input & Target Class Distribution Balance"
   ]
  },
  {
   "cell_type": "code",
   "execution_count": 29,
   "id": "8baafec6",
   "metadata": {},
   "outputs": [
    {
     "name": "stdout",
     "output_type": "stream",
     "text": [
      "M 0.789760348583878\n",
      "F 0.210239651416122\n",
      "ASY 0.5403050108932462\n",
      "NAP 0.22113289760348584\n",
      "ATA 0.18845315904139434\n",
      "TA 0.05010893246187364\n",
      "0 0.7668845315904139\n",
      "1 0.23311546840958605\n",
      "Normal 0.6013071895424836\n",
      "LVH 0.2047930283224401\n",
      "ST 0.19389978213507625\n",
      "N 0.5958605664488017\n",
      "Y 0.40413943355119825\n",
      "Flat 0.5010893246187363\n",
      "Up 0.43028322440087147\n",
      "Down 0.06862745098039216\n",
      "1 0.5533769063180828\n",
      "0 0.4466230936819172\n"
     ]
    },
    {
     "data": {
      "image/png": "[encoded data removed]",
      "text/plain": [
       "<Figure size 2000x500 with 7 Axes>"
      ]
     },
     "metadata": {},
     "output_type": "display_data"
    }
   ],
   "source": [
    "# Create a function that will calculate & display the probabilities withing each variable\n",
    "\n",
    "def class_balance(df):\n",
    "    colors = ['#5F4B8B', '#7CB9E8', '#A2D6F9', '#F9B384', '#E97451', '#F7CAC9', '#8B0000']\n",
    "    fig, axes = plt.subplots(nrows=1, ncols=len(df.columns), figsize=(20,5))\n",
    "    \n",
    "    # - For each sub-plot\n",
    "    for i, feature in enumerate(df.columns):\n",
    "        prob = df[feature].value_counts()/len(df[feature])\n",
    "        axes[i].bar(prob.index, prob, color = colors[i])\n",
    "        axes[i].set_title(feature)\n",
    "    \n",
    "        # - For each bar in the current subplot\n",
    "        # - Iterate over the unique categories of the current variable and their corresponding probabilities\n",
    "        for cat, prob in zip(prob.index, prob):\n",
    "            print(cat, prob)\n",
    "            # - Annotate the current bar with its corresponding probability\n",
    "            axes[i].annotate(f\"{prob:.2%}\", xy=(cat, prob), xytext=(0, 5), ha='center', textcoords='offset points', \n",
    "                                 fontsize=10)\n",
    "\n",
    "       \n",
    "    \n",
    "# Apply the function to categorical dataframe\n",
    "\n",
    "class_balance(dfc2a)\n",
    "\n"
   ]
  },
  {
   "cell_type": "markdown",
   "id": "009f7dc1",
   "metadata": {},
   "source": [
    "## VI. Compare Categories With Target Variable"
   ]
  },
  {
   "cell_type": "code",
   "execution_count": 30,
   "id": "4424bd82",
   "metadata": {},
   "outputs": [],
   "source": [
    "\n",
    "# - Comparing Categories will allow us to get a better idea of how our input variables affect the target variable\n",
    "\n",
    "def visualize(data, feature, colors):\n",
    "    \n",
    "    ax = pd.crosstab(data[feature], data.HeartDisease, normalize=0).plot(kind='bar', color=colors, \n",
    "                                                                          figsize=(15, 5), label='Inline label')\n",
    "    plt.legend(title='Y', bbox_to_anchor=(0., 1.02, 1., .102), \n",
    "               labels=[f'No Heart Disease', 'Heart Disease'], \n",
    "               loc='upper right', mode='expand', ncols=2, borderaxespad=0.)\n",
    "    plt.title(feature, fontsize=14)\n",
    "    plt.xticks(rotation=-60, fontsize=14)\n",
    "    plt.xlabel(feature, fontsize=14)\n",
    "    plt.ylabel('Percentage', fontsize=14)\n",
    "    \n",
    "    for i, patch in enumerate(ax.patches):\n",
    "        print(i, patch)\n",
    "        value = f\"{patch.get_height() * 100:.2f}%\"\n",
    "        x = patch.get_x() + patch.get_width() / 2\n",
    "        y = patch.get_height()\n",
    "        ax.annotate(value, (x, y), ha='center', va='bottom', fontsize=10)\n",
    "\n",
    "        "
   ]
  },
  {
   "cell_type": "code",
   "execution_count": 31,
   "id": "5322ae08",
   "metadata": {},
   "outputs": [
    {
     "name": "stdout",
     "output_type": "stream",
     "text": [
      "0 Rectangle(xy=(-0.25, 0), width=0.25, height=0.740933, angle=0)\n",
      "1 Rectangle(xy=(0.75, 0), width=0.25, height=0.368276, angle=0)\n",
      "2 Rectangle(xy=(0, 0), width=0.25, height=0.259067, angle=0)\n",
      "3 Rectangle(xy=(1, 0), width=0.25, height=0.631724, angle=0)\n"
     ]
    },
    {
     "data": {
      "image/png": "[encoded data removed]",
      "text/plain": [
       "<Figure size 1500x500 with 1 Axes>"
      ]
     },
     "metadata": {},
     "output_type": "display_data"
    }
   ],
   "source": [
    "# Sex -vs- HeartDisease\n",
    "\n",
    "colors = ['#87CEFA', '#8B0000']\n",
    "visualize(dfc1, 'Sex', colors )\n",
    "\n",
    "# - We can see about 63% of males and 23% of females have heart disease\n"
   ]
  },
  {
   "cell_type": "code",
   "execution_count": 32,
   "id": "9229a42b",
   "metadata": {},
   "outputs": [
    {
     "name": "stdout",
     "output_type": "stream",
     "text": [
      "0 Rectangle(xy=(-0.25, 0), width=0.25, height=0.209677, angle=0)\n",
      "1 Rectangle(xy=(0.75, 0), width=0.25, height=0.861272, angle=0)\n",
      "2 Rectangle(xy=(1.75, 0), width=0.25, height=0.64532, angle=0)\n",
      "3 Rectangle(xy=(2.75, 0), width=0.25, height=0.565217, angle=0)\n",
      "4 Rectangle(xy=(0, 0), width=0.25, height=0.790323, angle=0)\n",
      "5 Rectangle(xy=(1, 0), width=0.25, height=0.138728, angle=0)\n",
      "6 Rectangle(xy=(2, 0), width=0.25, height=0.35468, angle=0)\n",
      "7 Rectangle(xy=(3, 0), width=0.25, height=0.434783, angle=0)\n"
     ]
    },
    {
     "data": {
      "image/png": "[encoded data removed]",
      "text/plain": [
       "<Figure size 1500x500 with 1 Axes>"
      ]
     },
     "metadata": {},
     "output_type": "display_data"
    }
   ],
   "source": [
    "# ChestPainType -vs- HeartDisease\n",
    "\n",
    "colors = ['#87CEFA', '#8B0000']\n",
    "visualize(dfc1, 'ChestPainType', colors)"
   ]
  },
  {
   "cell_type": "code",
   "execution_count": 33,
   "id": "f8423a26",
   "metadata": {},
   "outputs": [
    {
     "name": "stdout",
     "output_type": "stream",
     "text": [
      "0 Rectangle(xy=(-0.25, 0), width=0.25, height=0.43617, angle=0)\n",
      "1 Rectangle(xy=(0.75, 0), width=0.25, height=0.483696, angle=0)\n",
      "2 Rectangle(xy=(1.75, 0), width=0.25, height=0.342697, angle=0)\n",
      "3 Rectangle(xy=(0, 0), width=0.25, height=0.56383, angle=0)\n",
      "4 Rectangle(xy=(1, 0), width=0.25, height=0.516304, angle=0)\n",
      "5 Rectangle(xy=(2, 0), width=0.25, height=0.657303, angle=0)\n"
     ]
    },
    {
     "data": {
      "image/png": "[encoded data removed]",
      "text/plain": [
       "<Figure size 1500x500 with 1 Axes>"
      ]
     },
     "metadata": {},
     "output_type": "display_data"
    }
   ],
   "source": [
    "# RestingECG -vs- HeartDisease\n",
    "\n",
    "colors = ['#87CEFA', '#8B0000']\n",
    "visualize(dfc1, 'RestingECG', colors)"
   ]
  },
  {
   "cell_type": "code",
   "execution_count": 34,
   "id": "21923476",
   "metadata": {},
   "outputs": [
    {
     "name": "stdout",
     "output_type": "stream",
     "text": [
      "0 Rectangle(xy=(-0.25, 0), width=0.25, height=0.648995, angle=0)\n",
      "1 Rectangle(xy=(0.75, 0), width=0.25, height=0.148248, angle=0)\n",
      "2 Rectangle(xy=(0, 0), width=0.25, height=0.351005, angle=0)\n",
      "3 Rectangle(xy=(1, 0), width=0.25, height=0.851752, angle=0)\n"
     ]
    },
    {
     "data": {
      "image/png": "[encoded data removed]",
      "text/plain": [
       "<Figure size 1500x500 with 1 Axes>"
      ]
     },
     "metadata": {},
     "output_type": "display_data"
    }
   ],
   "source": [
    "# ExerciseAngina -vs- HeartDisease\n",
    "# Those who have exercise angina and who do or do not have heart disease\n",
    "\n",
    "colors = ['#87CEFA', '#8B0000']\n",
    "visualize(dfc1, 'ExerciseAngina', colors)"
   ]
  },
  {
   "cell_type": "code",
   "execution_count": 35,
   "id": "9b850409",
   "metadata": {
    "scrolled": true
   },
   "outputs": [
    {
     "name": "stdout",
     "output_type": "stream",
     "text": [
      "0 Rectangle(xy=(-0.25, 0), width=0.25, height=0.222222, angle=0)\n",
      "1 Rectangle(xy=(0.75, 0), width=0.25, height=0.171739, angle=0)\n",
      "2 Rectangle(xy=(1.75, 0), width=0.25, height=0.802532, angle=0)\n",
      "3 Rectangle(xy=(0, 0), width=0.25, height=0.777778, angle=0)\n",
      "4 Rectangle(xy=(1, 0), width=0.25, height=0.828261, angle=0)\n",
      "5 Rectangle(xy=(2, 0), width=0.25, height=0.197468, angle=0)\n"
     ]
    },
    {
     "data": {
      "image/png": "[encoded data removed]",
      "text/plain": [
       "<Figure size 1500x500 with 1 Axes>"
      ]
     },
     "metadata": {},
     "output_type": "display_data"
    }
   ],
   "source": [
    "# ST_Slope -vs- HeartDisease\n",
    "# if elevated, conditions such as myocardial infarction, or pericarditis\n",
    "# if flat, considered normal\n",
    "# if depressed,conditions like ischemia, digitalis toxicity, or other conditions.\n",
    "\n",
    "colors = ['#87CEFA', '#8B0000']\n",
    "visualize(dfc1, 'ST_Slope', colors)"
   ]
  },
  {
   "cell_type": "markdown",
   "id": "87dff160",
   "metadata": {},
   "source": [
    "## VII. Encode Categorical Variables with OrdinalEncoder() & .replace()"
   ]
  },
  {
   "cell_type": "code",
   "execution_count": 36,
   "id": "5392e377",
   "metadata": {
    "scrolled": true
   },
   "outputs": [
    {
     "data": {
      "text/html": [
       "<div>\n",
       "<style scoped>\n",
       "    .dataframe tbody tr th:only-of-type {\n",
       "        vertical-align: middle;\n",
       "    }\n",
       "\n",
       "    .dataframe tbody tr th {\n",
       "        vertical-align: top;\n",
       "    }\n",
       "\n",
       "    .dataframe thead th {\n",
       "        text-align: right;\n",
       "    }\n",
       "</style>\n",
       "<table border=\"1\" class=\"dataframe\">\n",
       "  <thead>\n",
       "    <tr style=\"text-align: right;\">\n",
       "      <th></th>\n",
       "      <th>Sex</th>\n",
       "      <th>ChestPainType</th>\n",
       "      <th>FastingBS</th>\n",
       "      <th>RestingECG</th>\n",
       "      <th>ExerciseAngina</th>\n",
       "      <th>ST_Slope</th>\n",
       "      <th>HeartDisease</th>\n",
       "    </tr>\n",
       "  </thead>\n",
       "  <tbody>\n",
       "    <tr>\n",
       "      <th>0</th>\n",
       "      <td>M</td>\n",
       "      <td>1.0</td>\n",
       "      <td>0</td>\n",
       "      <td>0.0</td>\n",
       "      <td>N</td>\n",
       "      <td>2.0</td>\n",
       "      <td>0</td>\n",
       "    </tr>\n",
       "    <tr>\n",
       "      <th>1</th>\n",
       "      <td>F</td>\n",
       "      <td>2.0</td>\n",
       "      <td>0</td>\n",
       "      <td>0.0</td>\n",
       "      <td>N</td>\n",
       "      <td>1.0</td>\n",
       "      <td>1</td>\n",
       "    </tr>\n",
       "    <tr>\n",
       "      <th>2</th>\n",
       "      <td>M</td>\n",
       "      <td>1.0</td>\n",
       "      <td>0</td>\n",
       "      <td>1.0</td>\n",
       "      <td>N</td>\n",
       "      <td>2.0</td>\n",
       "      <td>0</td>\n",
       "    </tr>\n",
       "    <tr>\n",
       "      <th>3</th>\n",
       "      <td>F</td>\n",
       "      <td>3.0</td>\n",
       "      <td>0</td>\n",
       "      <td>0.0</td>\n",
       "      <td>Y</td>\n",
       "      <td>1.0</td>\n",
       "      <td>1</td>\n",
       "    </tr>\n",
       "    <tr>\n",
       "      <th>4</th>\n",
       "      <td>M</td>\n",
       "      <td>2.0</td>\n",
       "      <td>0</td>\n",
       "      <td>0.0</td>\n",
       "      <td>N</td>\n",
       "      <td>2.0</td>\n",
       "      <td>0</td>\n",
       "    </tr>\n",
       "  </tbody>\n",
       "</table>\n",
       "</div>"
      ],
      "text/plain": [
       "  Sex  ChestPainType  FastingBS  RestingECG ExerciseAngina  ST_Slope  \\\n",
       "0   M            1.0          0         0.0              N       2.0   \n",
       "1   F            2.0          0         0.0              N       1.0   \n",
       "2   M            1.0          0         1.0              N       2.0   \n",
       "3   F            3.0          0         0.0              Y       1.0   \n",
       "4   M            2.0          0         0.0              N       2.0   \n",
       "\n",
       "   HeartDisease  \n",
       "0             0  \n",
       "1             1  \n",
       "2             0  \n",
       "3             1  \n",
       "4             0  "
      ]
     },
     "execution_count": 36,
     "metadata": {},
     "output_type": "execute_result"
    }
   ],
   "source": [
    "# - Ordinal encode 'ChestPainType', 'RestingECG' & 'ST_Slope' in-place\n",
    "\n",
    "from sklearn.preprocessing import OrdinalEncoder\n",
    "\n",
    "# Update lst3 to match the actual categories in column 2 in order of importance\n",
    "ordinal_lst = [['TA', 'ATA', 'NAP', 'ASY'], ['Normal', 'ST', 'LVH'], ['Down', 'Flat', 'Up']]\n",
    "\n",
    "# Create the encoder with the updated categories\n",
    "encoder = OrdinalEncoder(categories=ordinal_lst)\n",
    "\n",
    "# Specify the columns to encode\n",
    "cols_to_encode = ['ChestPainType', 'RestingECG', 'ST_Slope']\n",
    "\n",
    "# Fit and transform the specified columns\n",
    "dfc2a[cols_to_encode] = encoder.fit_transform(dfc2a[cols_to_encode])\n",
    "\n",
    "# Display the updated dataframe\n",
    "dfc2a.head()\n",
    "\n"
   ]
  },
  {
   "cell_type": "code",
   "execution_count": 37,
   "id": "02b778cf",
   "metadata": {},
   "outputs": [
    {
     "data": {
      "text/html": [
       "<div>\n",
       "<style scoped>\n",
       "    .dataframe tbody tr th:only-of-type {\n",
       "        vertical-align: middle;\n",
       "    }\n",
       "\n",
       "    .dataframe tbody tr th {\n",
       "        vertical-align: top;\n",
       "    }\n",
       "\n",
       "    .dataframe thead th {\n",
       "        text-align: right;\n",
       "    }\n",
       "</style>\n",
       "<table border=\"1\" class=\"dataframe\">\n",
       "  <thead>\n",
       "    <tr style=\"text-align: right;\">\n",
       "      <th></th>\n",
       "      <th>Sex</th>\n",
       "      <th>ChestPainType</th>\n",
       "      <th>FastingBS</th>\n",
       "      <th>RestingECG</th>\n",
       "      <th>ExerciseAngina</th>\n",
       "      <th>ST_Slope</th>\n",
       "      <th>HeartDisease</th>\n",
       "    </tr>\n",
       "  </thead>\n",
       "  <tbody>\n",
       "    <tr>\n",
       "      <th>0</th>\n",
       "      <td>1</td>\n",
       "      <td>1.0</td>\n",
       "      <td>0</td>\n",
       "      <td>0.0</td>\n",
       "      <td>0</td>\n",
       "      <td>2.0</td>\n",
       "      <td>0</td>\n",
       "    </tr>\n",
       "    <tr>\n",
       "      <th>1</th>\n",
       "      <td>0</td>\n",
       "      <td>2.0</td>\n",
       "      <td>0</td>\n",
       "      <td>0.0</td>\n",
       "      <td>0</td>\n",
       "      <td>1.0</td>\n",
       "      <td>1</td>\n",
       "    </tr>\n",
       "    <tr>\n",
       "      <th>2</th>\n",
       "      <td>1</td>\n",
       "      <td>1.0</td>\n",
       "      <td>0</td>\n",
       "      <td>1.0</td>\n",
       "      <td>0</td>\n",
       "      <td>2.0</td>\n",
       "      <td>0</td>\n",
       "    </tr>\n",
       "    <tr>\n",
       "      <th>3</th>\n",
       "      <td>0</td>\n",
       "      <td>3.0</td>\n",
       "      <td>0</td>\n",
       "      <td>0.0</td>\n",
       "      <td>1</td>\n",
       "      <td>1.0</td>\n",
       "      <td>1</td>\n",
       "    </tr>\n",
       "    <tr>\n",
       "      <th>4</th>\n",
       "      <td>1</td>\n",
       "      <td>2.0</td>\n",
       "      <td>0</td>\n",
       "      <td>0.0</td>\n",
       "      <td>0</td>\n",
       "      <td>2.0</td>\n",
       "      <td>0</td>\n",
       "    </tr>\n",
       "  </tbody>\n",
       "</table>\n",
       "</div>"
      ],
      "text/plain": [
       "   Sex  ChestPainType  FastingBS  RestingECG  ExerciseAngina  ST_Slope  \\\n",
       "0    1            1.0          0         0.0               0       2.0   \n",
       "1    0            2.0          0         0.0               0       1.0   \n",
       "2    1            1.0          0         1.0               0       2.0   \n",
       "3    0            3.0          0         0.0               1       1.0   \n",
       "4    1            2.0          0         0.0               0       2.0   \n",
       "\n",
       "   HeartDisease  \n",
       "0             0  \n",
       "1             1  \n",
       "2             0  \n",
       "3             1  \n",
       "4             0  "
      ]
     },
     "execution_count": 37,
     "metadata": {},
     "output_type": "execute_result"
    }
   ],
   "source": [
    "# - Binary encode 'Sex', 'ExerciseAngina' in-place, then make a copy()\n",
    "\n",
    "for feature in dfc2a:\n",
    "    if feature == 'Sex':\n",
    "        dfc2a[feature] = dfc2a[feature].replace({'M': 1, 'F': 0})\n",
    "    elif feature == 'ExerciseAngina':\n",
    "        dfc2a[feature] = dfc2a[feature].replace({'Y': 1, 'N': 0})\n",
    "\n",
    "dfc2a_enc = dfc2a.copy()\n",
    "\n",
    "dfc2a_enc.head()"
   ]
  },
  {
   "cell_type": "code",
   "execution_count": 38,
   "id": "d90ca879",
   "metadata": {},
   "outputs": [
    {
     "name": "stdout",
     "output_type": "stream",
     "text": [
      "<class 'pandas.core.frame.DataFrame'>\n",
      "RangeIndex: 918 entries, 0 to 917\n",
      "Data columns (total 7 columns):\n",
      " #   Column          Non-Null Count  Dtype  \n",
      "---  ------          --------------  -----  \n",
      " 0   Sex             918 non-null    int64  \n",
      " 1   ChestPainType   918 non-null    float64\n",
      " 2   FastingBS       918 non-null    int64  \n",
      " 3   RestingECG      918 non-null    float64\n",
      " 4   ExerciseAngina  918 non-null    int64  \n",
      " 5   ST_Slope        918 non-null    float64\n",
      " 6   HeartDisease    918 non-null    int64  \n",
      "dtypes: float64(3), int64(4)\n",
      "memory usage: 50.3 KB\n"
     ]
    }
   ],
   "source": [
    "# Check datatypes to ensure they are all numeric in nature\n",
    "\n",
    "dfc2a_enc.info()"
   ]
  },
  {
   "cell_type": "code",
   "execution_count": 39,
   "id": "ac3653fc",
   "metadata": {},
   "outputs": [
    {
     "name": "stdout",
     "output_type": "stream",
     "text": [
      "<class 'pandas.core.frame.DataFrame'>\n",
      "RangeIndex: 918 entries, 0 to 917\n",
      "Data columns (total 7 columns):\n",
      " #   Column          Non-Null Count  Dtype  \n",
      "---  ------          --------------  -----  \n",
      " 0   Sex             918 non-null    int64  \n",
      " 1   ChestPainType   918 non-null    float64\n",
      " 2   FastingBS       918 non-null    int64  \n",
      " 3   RestingECG      918 non-null    float64\n",
      " 4   ExerciseAngina  918 non-null    int64  \n",
      " 5   ST_Slope        918 non-null    float64\n",
      " 6   HeartDisease    918 non-null    int64  \n",
      "dtypes: float64(3), int64(4)\n",
      "memory usage: 50.3 KB\n"
     ]
    }
   ],
   "source": [
    "# - Change category --> integer\n",
    "\n",
    "for feature in dfc2a:\n",
    "    if feature == 'Sex' or feature == 'FastingBS' or feature == 'ExerciseAngina':\n",
    "        dfc2a_enc[feature] = dfc2a_enc[feature].astype('int64')\n",
    "    \n",
    "dfc2a_enc.info()"
   ]
  },
  {
   "cell_type": "markdown",
   "id": "c65b1492",
   "metadata": {},
   "source": [
    "## VIII. Check for Outliers"
   ]
  },
  {
   "cell_type": "code",
   "execution_count": 40,
   "id": "0356d5d0",
   "metadata": {},
   "outputs": [
    {
     "data": {
      "image/png": "[encoded data removed]",
      "text/plain": [
       "<Figure size 640x480 with 1 Axes>"
      ]
     },
     "metadata": {},
     "output_type": "display_data"
    }
   ],
   "source": [
    "# - Check for outliers in continuous data\n",
    "\n",
    "plt.boxplot(dfc2b)\n",
    "plt.show()"
   ]
  },
  {
   "cell_type": "code",
   "execution_count": 41,
   "id": "f7cfbc69",
   "metadata": {},
   "outputs": [
    {
     "data": {
      "text/plain": [
       "746"
      ]
     },
     "execution_count": 41,
     "metadata": {},
     "output_type": "execute_result"
    }
   ],
   "source": [
    "# - Find index where 'RestingBP' == 0 | 'Cholesterol' == 0\n",
    "# - 172 instances where cholesterol is zero or resting BP is zero\n",
    "# - We will leave them in for the first iteration of the model to asses baseline performance\n",
    "\n",
    "len(df) - len(dfc2b.loc[(dfc2b['RestingBP'] == 0) | (dfc2b['Cholesterol'] == 0)])"
   ]
  },
  {
   "cell_type": "markdown",
   "id": "e6050041",
   "metadata": {},
   "source": [
    "## IX. Scale Continuous Data Using RobustScaler()"
   ]
  },
  {
   "cell_type": "code",
   "execution_count": 42,
   "id": "92e95eb9",
   "metadata": {},
   "outputs": [
    {
     "data": {
      "text/html": [
       "<div>\n",
       "<style scoped>\n",
       "    .dataframe tbody tr th:only-of-type {\n",
       "        vertical-align: middle;\n",
       "    }\n",
       "\n",
       "    .dataframe tbody tr th {\n",
       "        vertical-align: top;\n",
       "    }\n",
       "\n",
       "    .dataframe thead th {\n",
       "        text-align: right;\n",
       "    }\n",
       "</style>\n",
       "<table border=\"1\" class=\"dataframe\">\n",
       "  <thead>\n",
       "    <tr style=\"text-align: right;\">\n",
       "      <th></th>\n",
       "      <th>Age</th>\n",
       "      <th>RestingBP</th>\n",
       "      <th>Cholesterol</th>\n",
       "      <th>MaxHR</th>\n",
       "      <th>Oldpeak</th>\n",
       "      <th>HeartDisease</th>\n",
       "    </tr>\n",
       "  </thead>\n",
       "  <tbody>\n",
       "    <tr>\n",
       "      <th>0</th>\n",
       "      <td>-1.08</td>\n",
       "      <td>0.5</td>\n",
       "      <td>0.70</td>\n",
       "      <td>0.94</td>\n",
       "      <td>-0.40</td>\n",
       "      <td>-1.0</td>\n",
       "    </tr>\n",
       "    <tr>\n",
       "      <th>1</th>\n",
       "      <td>-0.38</td>\n",
       "      <td>1.5</td>\n",
       "      <td>-0.46</td>\n",
       "      <td>0.50</td>\n",
       "      <td>0.27</td>\n",
       "      <td>0.0</td>\n",
       "    </tr>\n",
       "    <tr>\n",
       "      <th>2</th>\n",
       "      <td>-1.31</td>\n",
       "      <td>0.0</td>\n",
       "      <td>0.64</td>\n",
       "      <td>-1.11</td>\n",
       "      <td>-0.40</td>\n",
       "      <td>-1.0</td>\n",
       "    </tr>\n",
       "    <tr>\n",
       "      <th>3</th>\n",
       "      <td>-0.46</td>\n",
       "      <td>0.4</td>\n",
       "      <td>-0.10</td>\n",
       "      <td>-0.83</td>\n",
       "      <td>0.60</td>\n",
       "      <td>0.0</td>\n",
       "    </tr>\n",
       "    <tr>\n",
       "      <th>4</th>\n",
       "      <td>0.00</td>\n",
       "      <td>1.0</td>\n",
       "      <td>-0.30</td>\n",
       "      <td>-0.44</td>\n",
       "      <td>-0.40</td>\n",
       "      <td>-1.0</td>\n",
       "    </tr>\n",
       "  </tbody>\n",
       "</table>\n",
       "</div>"
      ],
      "text/plain": [
       "    Age  RestingBP  Cholesterol  MaxHR  Oldpeak  HeartDisease\n",
       "0 -1.08        0.5         0.70   0.94    -0.40          -1.0\n",
       "1 -0.38        1.5        -0.46   0.50     0.27           0.0\n",
       "2 -1.31        0.0         0.64  -1.11    -0.40          -1.0\n",
       "3 -0.46        0.4        -0.10  -0.83     0.60           0.0\n",
       "4  0.00        1.0        -0.30  -0.44    -0.40          -1.0"
      ]
     },
     "execution_count": 42,
     "metadata": {},
     "output_type": "execute_result"
    }
   ],
   "source": [
    "# - Since there are some outliers, its best to use a robust scaling technique\n",
    "# - It scales with the IQR and gets rid of the median.\n",
    "# - Promotes fairness by not giving importance to any feature based on its original scale\n",
    "\n",
    "from sklearn.preprocessing import RobustScaler\n",
    "\n",
    "# Create an instance of RobustScaler\n",
    "scaler = RobustScaler()\n",
    "\n",
    "# Fit and transform the selected columns using RobustScaler\n",
    "dfc2bs = scaler.fit_transform(dfc2b[continuous_lst])\n",
    "\n",
    "# Change back to Pandas dataframe\n",
    "\n",
    "dfc2bs = pd.DataFrame(dfc2bs, columns=continuous_lst)\n",
    "dfc2bs.head()"
   ]
  },
  {
   "cell_type": "code",
   "execution_count": 60,
   "id": "79af14c8",
   "metadata": {},
   "outputs": [
    {
     "data": {
      "text/html": [
       "<div>\n",
       "<style scoped>\n",
       "    .dataframe tbody tr th:only-of-type {\n",
       "        vertical-align: middle;\n",
       "    }\n",
       "\n",
       "    .dataframe tbody tr th {\n",
       "        vertical-align: top;\n",
       "    }\n",
       "\n",
       "    .dataframe thead th {\n",
       "        text-align: right;\n",
       "    }\n",
       "</style>\n",
       "<table border=\"1\" class=\"dataframe\">\n",
       "  <thead>\n",
       "    <tr style=\"text-align: right;\">\n",
       "      <th></th>\n",
       "      <th>Age</th>\n",
       "      <th>RestingBP</th>\n",
       "      <th>Cholesterol</th>\n",
       "      <th>MaxHR</th>\n",
       "      <th>Oldpeak</th>\n",
       "      <th>HeartDisease</th>\n",
       "    </tr>\n",
       "  </thead>\n",
       "  <tbody>\n",
       "    <tr>\n",
       "      <th>0</th>\n",
       "      <td>-1.08</td>\n",
       "      <td>0.5</td>\n",
       "      <td>0.70</td>\n",
       "      <td>0.94</td>\n",
       "      <td>-0.40</td>\n",
       "      <td>1.0</td>\n",
       "    </tr>\n",
       "    <tr>\n",
       "      <th>1</th>\n",
       "      <td>-0.38</td>\n",
       "      <td>1.5</td>\n",
       "      <td>-0.46</td>\n",
       "      <td>0.50</td>\n",
       "      <td>0.27</td>\n",
       "      <td>0.0</td>\n",
       "    </tr>\n",
       "    <tr>\n",
       "      <th>2</th>\n",
       "      <td>-1.31</td>\n",
       "      <td>0.0</td>\n",
       "      <td>0.64</td>\n",
       "      <td>-1.11</td>\n",
       "      <td>-0.40</td>\n",
       "      <td>1.0</td>\n",
       "    </tr>\n",
       "    <tr>\n",
       "      <th>3</th>\n",
       "      <td>-0.46</td>\n",
       "      <td>0.4</td>\n",
       "      <td>-0.10</td>\n",
       "      <td>-0.83</td>\n",
       "      <td>0.60</td>\n",
       "      <td>0.0</td>\n",
       "    </tr>\n",
       "    <tr>\n",
       "      <th>4</th>\n",
       "      <td>0.00</td>\n",
       "      <td>1.0</td>\n",
       "      <td>-0.30</td>\n",
       "      <td>-0.44</td>\n",
       "      <td>-0.40</td>\n",
       "      <td>1.0</td>\n",
       "    </tr>\n",
       "  </tbody>\n",
       "</table>\n",
       "</div>"
      ],
      "text/plain": [
       "    Age  RestingBP  Cholesterol  MaxHR  Oldpeak  HeartDisease\n",
       "0 -1.08        0.5         0.70   0.94    -0.40           1.0\n",
       "1 -0.38        1.5        -0.46   0.50     0.27           0.0\n",
       "2 -1.31        0.0         0.64  -1.11    -0.40           1.0\n",
       "3 -0.46        0.4        -0.10  -0.83     0.60           0.0\n",
       "4  0.00        1.0        -0.30  -0.44    -0.40           1.0"
      ]
     },
     "execution_count": 60,
     "metadata": {},
     "output_type": "execute_result"
    }
   ],
   "source": [
    "# - During the encoding of the continuous variables, 'HeartDisease' was turned negative\n",
    "# - Therefore, we need to correct it\n",
    "\n",
    "dfc2bs['HeartDisease'] = dfc2bs['HeartDisease'].replace({-1: 1})\n",
    "dfc2bs.head()"
   ]
  },
  {
   "cell_type": "code",
   "execution_count": 61,
   "id": "e2112e58",
   "metadata": {},
   "outputs": [
    {
     "data": {
      "text/html": [
       "<div>\n",
       "<style scoped>\n",
       "    .dataframe tbody tr th:only-of-type {\n",
       "        vertical-align: middle;\n",
       "    }\n",
       "\n",
       "    .dataframe tbody tr th {\n",
       "        vertical-align: top;\n",
       "    }\n",
       "\n",
       "    .dataframe thead th {\n",
       "        text-align: right;\n",
       "    }\n",
       "</style>\n",
       "<table border=\"1\" class=\"dataframe\">\n",
       "  <thead>\n",
       "    <tr style=\"text-align: right;\">\n",
       "      <th></th>\n",
       "      <th>Sex</th>\n",
       "      <th>ChestPainType</th>\n",
       "      <th>FastingBS</th>\n",
       "      <th>RestingECG</th>\n",
       "      <th>ExerciseAngina</th>\n",
       "      <th>ST_Slope</th>\n",
       "    </tr>\n",
       "  </thead>\n",
       "  <tbody>\n",
       "    <tr>\n",
       "      <th>0</th>\n",
       "      <td>1</td>\n",
       "      <td>1.0</td>\n",
       "      <td>0</td>\n",
       "      <td>0.0</td>\n",
       "      <td>0</td>\n",
       "      <td>2.0</td>\n",
       "    </tr>\n",
       "    <tr>\n",
       "      <th>1</th>\n",
       "      <td>0</td>\n",
       "      <td>2.0</td>\n",
       "      <td>0</td>\n",
       "      <td>0.0</td>\n",
       "      <td>0</td>\n",
       "      <td>1.0</td>\n",
       "    </tr>\n",
       "    <tr>\n",
       "      <th>2</th>\n",
       "      <td>1</td>\n",
       "      <td>1.0</td>\n",
       "      <td>0</td>\n",
       "      <td>1.0</td>\n",
       "      <td>0</td>\n",
       "      <td>2.0</td>\n",
       "    </tr>\n",
       "    <tr>\n",
       "      <th>3</th>\n",
       "      <td>0</td>\n",
       "      <td>3.0</td>\n",
       "      <td>0</td>\n",
       "      <td>0.0</td>\n",
       "      <td>1</td>\n",
       "      <td>1.0</td>\n",
       "    </tr>\n",
       "    <tr>\n",
       "      <th>4</th>\n",
       "      <td>1</td>\n",
       "      <td>2.0</td>\n",
       "      <td>0</td>\n",
       "      <td>0.0</td>\n",
       "      <td>0</td>\n",
       "      <td>2.0</td>\n",
       "    </tr>\n",
       "  </tbody>\n",
       "</table>\n",
       "</div>"
      ],
      "text/plain": [
       "   Sex  ChestPainType  FastingBS  RestingECG  ExerciseAngina  ST_Slope\n",
       "0    1            1.0          0         0.0               0       2.0\n",
       "1    0            2.0          0         0.0               0       1.0\n",
       "2    1            1.0          0         1.0               0       2.0\n",
       "3    0            3.0          0         0.0               1       1.0\n",
       "4    1            2.0          0         0.0               0       2.0"
      ]
     },
     "execution_count": 61,
     "metadata": {},
     "output_type": "execute_result"
    }
   ],
   "source": [
    "# - View categorical data\n",
    "dfc2a_enc.head()"
   ]
  },
  {
   "cell_type": "code",
   "execution_count": 45,
   "id": "98125380",
   "metadata": {},
   "outputs": [
    {
     "data": {
      "text/html": [
       "<div>\n",
       "<style scoped>\n",
       "    .dataframe tbody tr th:only-of-type {\n",
       "        vertical-align: middle;\n",
       "    }\n",
       "\n",
       "    .dataframe tbody tr th {\n",
       "        vertical-align: top;\n",
       "    }\n",
       "\n",
       "    .dataframe thead th {\n",
       "        text-align: right;\n",
       "    }\n",
       "</style>\n",
       "<table border=\"1\" class=\"dataframe\">\n",
       "  <thead>\n",
       "    <tr style=\"text-align: right;\">\n",
       "      <th></th>\n",
       "      <th>Sex</th>\n",
       "      <th>ChestPainType</th>\n",
       "      <th>FastingBS</th>\n",
       "      <th>RestingECG</th>\n",
       "      <th>ExerciseAngina</th>\n",
       "      <th>ST_Slope</th>\n",
       "    </tr>\n",
       "  </thead>\n",
       "  <tbody>\n",
       "    <tr>\n",
       "      <th>0</th>\n",
       "      <td>1</td>\n",
       "      <td>1.0</td>\n",
       "      <td>0</td>\n",
       "      <td>0.0</td>\n",
       "      <td>0</td>\n",
       "      <td>2.0</td>\n",
       "    </tr>\n",
       "    <tr>\n",
       "      <th>1</th>\n",
       "      <td>0</td>\n",
       "      <td>2.0</td>\n",
       "      <td>0</td>\n",
       "      <td>0.0</td>\n",
       "      <td>0</td>\n",
       "      <td>1.0</td>\n",
       "    </tr>\n",
       "    <tr>\n",
       "      <th>2</th>\n",
       "      <td>1</td>\n",
       "      <td>1.0</td>\n",
       "      <td>0</td>\n",
       "      <td>1.0</td>\n",
       "      <td>0</td>\n",
       "      <td>2.0</td>\n",
       "    </tr>\n",
       "    <tr>\n",
       "      <th>3</th>\n",
       "      <td>0</td>\n",
       "      <td>3.0</td>\n",
       "      <td>0</td>\n",
       "      <td>0.0</td>\n",
       "      <td>1</td>\n",
       "      <td>1.0</td>\n",
       "    </tr>\n",
       "    <tr>\n",
       "      <th>4</th>\n",
       "      <td>1</td>\n",
       "      <td>2.0</td>\n",
       "      <td>0</td>\n",
       "      <td>0.0</td>\n",
       "      <td>0</td>\n",
       "      <td>2.0</td>\n",
       "    </tr>\n",
       "  </tbody>\n",
       "</table>\n",
       "</div>"
      ],
      "text/plain": [
       "   Sex  ChestPainType  FastingBS  RestingECG  ExerciseAngina  ST_Slope\n",
       "0    1            1.0          0         0.0               0       2.0\n",
       "1    0            2.0          0         0.0               0       1.0\n",
       "2    1            1.0          0         1.0               0       2.0\n",
       "3    0            3.0          0         0.0               1       1.0\n",
       "4    1            2.0          0         0.0               0       2.0"
      ]
     },
     "execution_count": 45,
     "metadata": {},
     "output_type": "execute_result"
    }
   ],
   "source": [
    "# - Need to drop the target variable from the categorical dataframe to prepare for merging\n",
    "\n",
    "dfc2a_enc = dfc2a_enc.drop('HeartDisease', axis=1)\n",
    "dfc2a_enc.head()"
   ]
  },
  {
   "cell_type": "code",
   "execution_count": 62,
   "id": "f38e4611",
   "metadata": {},
   "outputs": [
    {
     "data": {
      "text/html": [
       "<div>\n",
       "<style scoped>\n",
       "    .dataframe tbody tr th:only-of-type {\n",
       "        vertical-align: middle;\n",
       "    }\n",
       "\n",
       "    .dataframe tbody tr th {\n",
       "        vertical-align: top;\n",
       "    }\n",
       "\n",
       "    .dataframe thead th {\n",
       "        text-align: right;\n",
       "    }\n",
       "</style>\n",
       "<table border=\"1\" class=\"dataframe\">\n",
       "  <thead>\n",
       "    <tr style=\"text-align: right;\">\n",
       "      <th></th>\n",
       "      <th>Sex</th>\n",
       "      <th>ChestPainType</th>\n",
       "      <th>FastingBS</th>\n",
       "      <th>RestingECG</th>\n",
       "      <th>ExerciseAngina</th>\n",
       "      <th>ST_Slope</th>\n",
       "      <th>Age</th>\n",
       "      <th>RestingBP</th>\n",
       "      <th>Cholesterol</th>\n",
       "      <th>MaxHR</th>\n",
       "      <th>Oldpeak</th>\n",
       "      <th>HeartDisease</th>\n",
       "    </tr>\n",
       "  </thead>\n",
       "  <tbody>\n",
       "    <tr>\n",
       "      <th>0</th>\n",
       "      <td>1</td>\n",
       "      <td>1.0</td>\n",
       "      <td>0</td>\n",
       "      <td>0.0</td>\n",
       "      <td>0</td>\n",
       "      <td>2.0</td>\n",
       "      <td>-1.08</td>\n",
       "      <td>0.5</td>\n",
       "      <td>0.70</td>\n",
       "      <td>0.94</td>\n",
       "      <td>-0.40</td>\n",
       "      <td>1.0</td>\n",
       "    </tr>\n",
       "    <tr>\n",
       "      <th>1</th>\n",
       "      <td>0</td>\n",
       "      <td>2.0</td>\n",
       "      <td>0</td>\n",
       "      <td>0.0</td>\n",
       "      <td>0</td>\n",
       "      <td>1.0</td>\n",
       "      <td>-0.38</td>\n",
       "      <td>1.5</td>\n",
       "      <td>-0.46</td>\n",
       "      <td>0.50</td>\n",
       "      <td>0.27</td>\n",
       "      <td>0.0</td>\n",
       "    </tr>\n",
       "    <tr>\n",
       "      <th>2</th>\n",
       "      <td>1</td>\n",
       "      <td>1.0</td>\n",
       "      <td>0</td>\n",
       "      <td>1.0</td>\n",
       "      <td>0</td>\n",
       "      <td>2.0</td>\n",
       "      <td>-1.31</td>\n",
       "      <td>0.0</td>\n",
       "      <td>0.64</td>\n",
       "      <td>-1.11</td>\n",
       "      <td>-0.40</td>\n",
       "      <td>1.0</td>\n",
       "    </tr>\n",
       "    <tr>\n",
       "      <th>3</th>\n",
       "      <td>0</td>\n",
       "      <td>3.0</td>\n",
       "      <td>0</td>\n",
       "      <td>0.0</td>\n",
       "      <td>1</td>\n",
       "      <td>1.0</td>\n",
       "      <td>-0.46</td>\n",
       "      <td>0.4</td>\n",
       "      <td>-0.10</td>\n",
       "      <td>-0.83</td>\n",
       "      <td>0.60</td>\n",
       "      <td>0.0</td>\n",
       "    </tr>\n",
       "    <tr>\n",
       "      <th>4</th>\n",
       "      <td>1</td>\n",
       "      <td>2.0</td>\n",
       "      <td>0</td>\n",
       "      <td>0.0</td>\n",
       "      <td>0</td>\n",
       "      <td>2.0</td>\n",
       "      <td>0.00</td>\n",
       "      <td>1.0</td>\n",
       "      <td>-0.30</td>\n",
       "      <td>-0.44</td>\n",
       "      <td>-0.40</td>\n",
       "      <td>1.0</td>\n",
       "    </tr>\n",
       "  </tbody>\n",
       "</table>\n",
       "</div>"
      ],
      "text/plain": [
       "   Sex  ChestPainType  FastingBS  RestingECG  ExerciseAngina  ST_Slope   Age  \\\n",
       "0    1            1.0          0         0.0               0       2.0 -1.08   \n",
       "1    0            2.0          0         0.0               0       1.0 -0.38   \n",
       "2    1            1.0          0         1.0               0       2.0 -1.31   \n",
       "3    0            3.0          0         0.0               1       1.0 -0.46   \n",
       "4    1            2.0          0         0.0               0       2.0  0.00   \n",
       "\n",
       "   RestingBP  Cholesterol  MaxHR  Oldpeak  HeartDisease  \n",
       "0        0.5         0.70   0.94    -0.40           1.0  \n",
       "1        1.5        -0.46   0.50     0.27           0.0  \n",
       "2        0.0         0.64  -1.11    -0.40           1.0  \n",
       "3        0.4        -0.10  -0.83     0.60           0.0  \n",
       "4        1.0        -0.30  -0.44    -0.40           1.0  "
      ]
     },
     "execution_count": 62,
     "metadata": {},
     "output_type": "execute_result"
    }
   ],
   "source": [
    "# - Merge both dataframes\n",
    "\n",
    "# - left-merge Continuous dataframe on 'ST_Slope'\n",
    "\n",
    "dfc2m1 = pd.merge(dfc2a_enc, dfc2bs, left_index=True, right_index=True, how='left')\n",
    "\n",
    "# - Create a copy\n",
    "\n",
    "dfc3m1 = pd.DataFrame(dfc2m1, columns=dfc2m1.columns, copy=True)\n",
    "dfc3m1.head()"
   ]
  },
  {
   "cell_type": "code",
   "execution_count": 63,
   "id": "5b45992c",
   "metadata": {},
   "outputs": [
    {
     "data": {
      "image/png": "[encoded data removed]",
      "text/plain": [
       "<Figure size 640x480 with 1 Axes>"
      ]
     },
     "metadata": {},
     "output_type": "display_data"
    }
   ],
   "source": [
    "# - Check outliers after scaling to see if any improvement\n",
    "# - The continuous data is now scaled between the ranges of approx. (-2 to 4)\n",
    "# - This mitigates the impact of outliers on the model\n",
    "\n",
    "plt.boxplot(dfc3m1)\n",
    "plt.show()"
   ]
  },
  {
   "cell_type": "markdown",
   "id": "849918ae",
   "metadata": {},
   "source": [
    "## X. Split Data into Train, Validate, & Test Sets Using Numpy Arrays"
   ]
  },
  {
   "cell_type": "code",
   "execution_count": 64,
   "id": "9f91b5d8",
   "metadata": {},
   "outputs": [],
   "source": [
    "# - Split data into X matrix & y matrix\n",
    "# - This is the full set of categorical & continuous features\n",
    "\n",
    "X, y = dfc3m1.iloc[0:, :-1], dfc3m1.iloc[0:, -1]\n"
   ]
  },
  {
   "cell_type": "code",
   "execution_count": 65,
   "id": "6984e645",
   "metadata": {},
   "outputs": [
    {
     "name": "stdout",
     "output_type": "stream",
     "text": [
      "(615, 11) (615,)\n",
      "(151, 11) (151,)\n",
      "(152, 11) (152,)\n"
     ]
    }
   ],
   "source": [
    "# - Further split the matrices into the train, validation, and test data sets\n",
    "\n",
    "from sklearn.model_selection import train_test_split\n",
    "\n",
    "# Split the data into training and temporary sets (temp_set refers to the remaining data)\n",
    "\n",
    "X_train, temp_set, y_train, y_temp = train_test_split(X, y, test_size=0.33, shuffle=False)\n",
    "\n",
    "# Split the temporary set into validation and test sets\n",
    "\n",
    "X_val, X_test, y_val, y_test = train_test_split(temp_set, y_temp, test_size=0.5, shuffle=False)\n",
    "\n",
    "\n",
    "X_train, y_train = X_train.values, y_train.values\n",
    "X_val, y_val = X_val.values, y_val.values\n",
    "X_test, y_test = X_test.values, y_test.values\n",
    "\n",
    "print(X_train.shape, y_train.shape)\n",
    "print(X_val.shape, y_val.shape)\n",
    "print(X_test.shape, y_test.shape)\n",
    "\n",
    "\n"
   ]
  },
  {
   "cell_type": "markdown",
   "id": "d63c1877",
   "metadata": {},
   "source": [
    "## XI. Build Baseline Model & Optimize Parameters"
   ]
  },
  {
   "cell_type": "code",
   "execution_count": 57,
   "id": "cbf5e8b8",
   "metadata": {
    "scrolled": false
   },
   "outputs": [],
   "source": [
    "# - Train a baseline model\n",
    "# - We now want to build the best baseline model we can, and use it to compare and contrast other models.\n",
    "\n",
    "import numpy as np\n",
    "from sklearn.linear_model import LogisticRegression\n",
    "from sklearn.model_selection import RepeatedStratifiedKFold, cross_val_score\n",
    "from sklearn.metrics import classification_report, ConfusionMatrixDisplay \n",
    "from skopt import BayesSearchCV \n",
    "from skopt.plots import plot_objective\n",
    "from warnings import catch_warnings\n",
    "from warnings import simplefilter\n",
    "\n",
    "\n",
    "\n",
    "# Define a function for hyperparameter optimization\n",
    "def optimize_model(X, y, model, param_space, cv):\n",
    "\n",
    "    opt = BayesSearchCV(\n",
    "        model,\n",
    "        param_space,\n",
    "        n_iter=50,  # Number of iterations\n",
    "        cv=cv,  # Stratified k-fold cross-validation\n",
    "        scoring='roc_auc',  # Scoring metric to optimize\n",
    "        random_state=42,\n",
    "        n_jobs=-1  # Use all available CPU cores\n",
    "    )\n",
    "    with catch_warnings():\n",
    "        # ignore generated warnings\n",
    "        simplefilter(\"ignore\")\n",
    "        opt.fit(X, y)\n",
    "    \n",
    "   \n",
    "    best_model = opt.best_estimator_\n",
    "    val_score = best_model.score(X_val, y_val)\n",
    "    print(\"Validation Score:\", val_score)\n",
    "    print(\"Best Model:\", best_model)\n",
    "    print(\"Best Score:\", opt.best_score_)\n",
    "    # Print coefficients of the best model\n",
    "    print(\"Coefficients:\", best_model.coef_, end='\\n\\n')\n",
    "\n"
   ]
  },
  {
   "cell_type": "code",
   "execution_count": 51,
   "id": "58402788",
   "metadata": {},
   "outputs": [],
   "source": [
    "\n",
    "# - Create a function that will display the confusion matrix, and report\n",
    "\n",
    "def report(y_test, y_pred):\n",
    "    # Evaluate the model's performance\n",
    "    classification_report_result = classification_report(y_test, y_pred)\n",
    "    cm = ConfusionMatrixDisplay.from_predictions(y_test, y_pred)\n",
    "\n",
    "    print(\"Classification Report:\\n\", classification_report_result)\n",
    "    print(cm)\n",
    "    "
   ]
  },
  {
   "cell_type": "code",
   "execution_count": 58,
   "id": "f02b8f07",
   "metadata": {},
   "outputs": [],
   "source": [
    "\n",
    "# - Create a function that trains the model. The 'flag' variable is set to 'y', when we do not want to optimize\n",
    "\n",
    "def train_model(X_train, y_train, X_test, y_test, flag):\n",
    "    # Create an instance of the baseline model (e.g., Logistic Regression)\n",
    "    baseline_model = LogisticRegression()\n",
    "\n",
    "    # Train the model using the training data\n",
    "    baseline_model.fit(X_train, y_train)\n",
    "    \n",
    "    # Use the trained model to make predictions on the test data\n",
    "    y_pred = baseline_model.predict(X_test)\n",
    "\n",
    "    report(y_test, y_pred)\n",
    "\n",
    "    if flag == 'y':\n",
    "        lst = []\n",
    "        cv = RepeatedStratifiedKFold(n_splits=10, n_repeats=5, random_state=42)\n",
    "        scores = cross_val_score(baseline_model, X, y, scoring='accuracy', cv=cv, n_jobs=-1, error_score = 'raise')\n",
    "        score = np.mean(scores)\n",
    "        lst.append(score)\n",
    "        \n",
    "        # Performance metrics\n",
    "        print('> ROC_AUC: Mean %.3f StanDev: %.3f StandErr: %.3f  Max: %.3f  Min: %.3f Range: %.3f' \n",
    "               % (np.mean(lst), np.std(lst), np.std(lst)/np.sqrt(50), max(lst), min(lst), max(lst) - min(lst)), end='\\n\\n' )\n",
    "        \n",
    "        \n",
    "    \n",
    "    \n",
    "    return baseline_model\n"
   ]
  },
  {
   "cell_type": "code",
   "execution_count": 53,
   "id": "2575d087",
   "metadata": {},
   "outputs": [],
   "source": [
    "# Define the parameter space for hyperparameter optimization\n",
    "def param_space(regularization, penalty, solver):\n",
    "    param_space = {\n",
    "        'C': regularization,  # Regularization parameter\n",
    "        'penalty': penalty,   # Regularization penalty\n",
    "        'solver': solver,     # Solver for optimization\n",
    "    }\n",
    "    return param_space\n"
   ]
  },
  {
   "cell_type": "code",
   "execution_count": 59,
   "id": "8194f86a",
   "metadata": {},
   "outputs": [
    {
     "name": "stdout",
     "output_type": "stream",
     "text": [
      "Classification Report:\n",
      "               precision    recall  f1-score   support\n",
      "\n",
      "         0.0       0.78      0.75      0.76        69\n",
      "         1.0       0.80      0.82      0.81        83\n",
      "\n",
      "    accuracy                           0.79       152\n",
      "   macro avg       0.79      0.79      0.79       152\n",
      "weighted avg       0.79      0.79      0.79       152\n",
      "\n",
      "<sklearn.metrics._plot.confusion_matrix.ConfusionMatrixDisplay object at 0x00000226512E7150>\n",
      "> ROC_AUC: Mean 0.851 StanDev: 0.000 StandErr: 0.000  Max: 0.851  Min: 0.851 Range: 0.000\n",
      "\n",
      "Validation Score: 0.8079470198675497\n",
      "Best Model: LogisticRegression(C=0.5, penalty='l1', solver='saga')\n",
      "Best Score: 0.8394841269841269\n",
      "Coefficients: [[-1.18468524 -0.87070417  0.         -0.12832545  0.          0.\n",
      "   0.         -0.32950255 -0.19320686  0.85435951 -0.60178587]]\n",
      "\n"
     ]
    },
    {
     "data": {
      "image/png": "[encoded data removed]",
      "text/plain": [
       "<Figure size 640x480 with 2 Axes>"
      ]
     },
     "metadata": {},
     "output_type": "display_data"
    }
   ],
   "source": [
    "# - Precision: the proportion of correctly predicted positive instances out of all that were predicted positive. Good \n",
    "#              to focus on precision for medical diagnosis. Measures the quality of the positive predictions and how \n",
    "#              accurate or 'precise' the predictions are\n",
    "#              formula: TP/TP + FP\n",
    "\n",
    "# - Recall(sensitivity): the proportion of actual positive instances that are correctly identified or 'recalled' by\n",
    "#                        the model. Recall quantifies the ability of the model to 'recall', 'identify', or 'capture'\n",
    "#                        positive instances from the dataset.\n",
    "#                        formula: TP/TP + FN\n",
    "\n",
    "# - Support: is equivalent to 'n'\n",
    "# - Accuracy: the proportion of correctly classified instances out of the entire dataset\n",
    "\n",
    "\n",
    "# - As we can see the baseline model performs pretty well on its face.\n",
    "# - The model is 79% accurate, implying that 7.9 out every 10 cases of heart-failure were identified correctly \n",
    "# - Please note the data that is used comes from the testing data set, which is data the model has never seen before \n",
    "# - The next step will be to create different types of classifiers such as decision trees, and naive.bayes to see\n",
    "#   if there are more suited models for our task.\n",
    "\n",
    "\n",
    "reg = (0.01, 0.1, 0.5, 1, 1.5, 2, 5, 10.0)\n",
    "pen = ['l1', 'l2']\n",
    "solve = ['liblinear', 'saga']\n",
    "\n",
    "baseline_model = train_model(X_train, y_train, X_test, y_test, 'y')\n",
    "\n",
    "p_space = param_space(reg, pen, solve)\n",
    "\n",
    "optimize_model(X_val, y_val, baseline_model, p_space, 10)\n"
   ]
  },
  {
   "cell_type": "code",
   "execution_count": null,
   "id": "d3454bb1",
   "metadata": {},
   "outputs": [],
   "source": []
  },
  {
   "cell_type": "code",
   "execution_count": null,
   "id": "0bb22402",
   "metadata": {},
   "outputs": [],
   "source": []
  },
  {
   "cell_type": "code",
   "execution_count": null,
   "id": "b559344a",
   "metadata": {},
   "outputs": [],
   "source": []
  },
  {
   "cell_type": "code",
   "execution_count": null,
   "id": "e35c5080",
   "metadata": {},
   "outputs": [],
   "source": []
  },
  {
   "cell_type": "code",
   "execution_count": null,
   "id": "0a43e6df",
   "metadata": {},
   "outputs": [],
   "source": []
  },
  {
   "cell_type": "code",
   "execution_count": null,
   "id": "2d057197",
   "metadata": {},
   "outputs": [],
   "source": []
  },
  {
   "cell_type": "code",
   "execution_count": null,
   "id": "271d7542",
   "metadata": {},
   "outputs": [],
   "source": []
  },
  {
   "cell_type": "code",
   "execution_count": null,
   "id": "c109f0a4",
   "metadata": {},
   "outputs": [],
   "source": []
  },
  {
   "cell_type": "code",
   "execution_count": null,
   "id": "71228a77",
   "metadata": {},
   "outputs": [],
   "source": []
  },
  {
   "cell_type": "code",
   "execution_count": null,
   "id": "803705da",
   "metadata": {},
   "outputs": [],
   "source": []
  },
  {
   "cell_type": "code",
   "execution_count": null,
   "id": "edadd897",
   "metadata": {},
   "outputs": [],
   "source": []
  },
  {
   "cell_type": "code",
   "execution_count": null,
   "id": "ed6fc0d2",
   "metadata": {},
   "outputs": [],
   "source": []
  },
  {
   "cell_type": "code",
   "execution_count": null,
   "id": "172936a4",
   "metadata": {},
   "outputs": [],
   "source": []
  }
 ],
 "metadata": {
  "kernelspec": {
   "display_name": "Python 3 (ipykernel)",
   "language": "python",
   "name": "python3"
  },
  "language_info": {
   "codemirror_mode": {
    "name": "ipython",
    "version": 3
   },
   "file_extension": ".py",
   "mimetype": "text/x-python",
   "name": "python",
   "nbconvert_exporter": "python",
   "pygments_lexer": "ipython3",
   "version": "3.11.3"
  }
 },
 "nbformat": 4,
 "nbformat_minor": 5
}
