{
 "cells": [
  {
   "cell_type": "code",
   "execution_count": 28,
   "id": "0bfdd79e",
   "metadata": {},
   "outputs": [],
   "source": [
    "from os import chdir, getcwd, path\n",
    "from numpy import nan\n",
    "from time import time\n",
    "from logging import info, error\n",
    "import subprocess\n",
    "from yaml import YAMLError, safe_load, dump\n",
    "import datetime\n",
    "from re import sub\n",
    "from string import punctuation, ascii_letters\n",
    "from random import random, choice, randint, uniform\n",
    "from psutil import virtual_memory\n",
    "import gc\n",
    "from graphviz import Source\n",
    "from objgraph import show_refs\n",
    "from pandas import DataFrame, read_csv\n",
    "from dask import dataframe as dd\n",
    "import ray\n",
    "from modin import pandas as mpd\n",
    "import grpc"
   ]
  },
  {
   "cell_type": "code",
   "execution_count": 4,
   "id": "71c5f35e",
   "metadata": {},
   "outputs": [
    {
     "name": "stdout",
     "output_type": "stream",
     "text": [
      "C:\\Users\\andre\\Repositories\\Professional.Portfolio\\Sample6_Data.Validation.Pipeline\n",
      "C:\\Users\\andre\\Repositories\\Professional.Portfolio\\Sample6_Data.Validation.Pipeline\n"
     ]
    }
   ],
   "source": [
    "cwd = getcwd()\n",
    "print(cwd)\n",
    "chdir('C:/Users/andre/Repositories/Professional.Portfolio/Sample6_Data.Validation.Pipeline')\n",
    "print(cwd)\n"
   ]
  },
  {
   "cell_type": "markdown",
   "id": "a0dd5ec7",
   "metadata": {},
   "source": [
    "## Helper Functions"
   ]
  },
  {
   "cell_type": "code",
   "execution_count": 5,
   "id": "0caf51d1",
   "metadata": {},
   "outputs": [],
   "source": [
    "# function to keep track of df objects in memory\n",
    "def dfs():\n",
    "    \"\"\"\n",
    "    List all Pandas DataFrame objects currently in memory.\n",
    "\n",
    "    This function lists all Pandas DataFrame objects present in the global namespace.\n",
    "\n",
    "    Returns:\n",
    "        list: A list of DataFrame objects.\n",
    "    \"\"\"\n",
    "    dataframes = [var for var in globals() if isinstance(globals()[var], DataFrame)]\n",
    "    print(dataframes)"
   ]
  },
  {
   "cell_type": "code",
   "execution_count": 7,
   "id": "73647d0e-a492-48e8-8197-96de35ffea66",
   "metadata": {},
   "outputs": [
    {
     "data": {
      "text/plain": [
       "svmem(total=34033319936, available=24460357632, percent=28.1, used=9572962304, free=24460357632)"
      ]
     },
     "execution_count": 7,
     "metadata": {},
     "output_type": "execute_result"
    }
   ],
   "source": [
    "monitor_ram()"
   ]
  },
  {
   "cell_type": "code",
   "execution_count": 8,
   "id": "27879465-c30b-4fce-88df-6504a8d551be",
   "metadata": {},
   "outputs": [
    {
     "name": "stdout",
     "output_type": "stream",
     "text": [
      "[]\n"
     ]
    }
   ],
   "source": [
    "dfs()"
   ]
  },
  {
   "cell_type": "code",
   "execution_count": 6,
   "id": "e6083ede",
   "metadata": {},
   "outputs": [],
   "source": [
    "def monitor_ram():\n",
    "    \"\"\"\n",
    "    Get information about the system's RAM (Random Access Memory) usage.\n",
    "\n",
    "    Returns:\n",
    "        psutil._common.svmem: A named tuple representing RAM usage statistics.\n",
    "    \"\"\"\n",
    "    memory_usage = virtual_memory()\n",
    "    return memory_usage"
   ]
  },
  {
   "cell_type": "code",
   "execution_count": 6,
   "id": "49ab17d6",
   "metadata": {},
   "outputs": [],
   "source": [
    "def generate_ram_graph(working_dir, dot_name, objects):\n",
    "    \"\"\"\n",
    "    Generate a reference graph of Python objects and save it as a PNG image.\n",
    "\n",
    "    Parameters:\n",
    "        working_dir (str): The directory where the DOT file and PNG image will be saved.\n",
    "        dot_name (str): The base name for the DOT and PNG files (without extensions).\n",
    "        objects: The Python objects for which references will be graphed.\n",
    "\n",
    "    Returns:\n",
    "        graphviz.files.Source: A Graphviz Source object representing the rendered reference graph.\n",
    "    \"\"\"\n",
    "    # Specify the full file path where the DOT file should be saved\n",
    "    dot_file_path = f'{working_dir}/{dot_name}.dot'\n",
    "    \n",
    "    # Generate the object references graph and save it as a DOT file\n",
    "    show_refs(objects, filename=dot_file_path)\n",
    "    \n",
    "    # Specify the full file path where the PNG image should be saved\n",
    "    png_file_path = f'{working_dir}/{dot_name}.png'\n",
    "    \n",
    "    # Use graphviz to render the DOT file as a PNG image\n",
    "    graph = Source.from_file(dot_file_path, format='png')\n",
    "    \n",
    "    return graph\n"
   ]
  },
  {
   "cell_type": "markdown",
   "id": "c0421788",
   "metadata": {},
   "source": [
    "## Create Mock Dataset with Special Characters, Strings, Integers, & Missing Values"
   ]
  },
  {
   "cell_type": "code",
   "execution_count": 9,
   "id": "263eecbb",
   "metadata": {},
   "outputs": [],
   "source": [
    "def generate_random_value():\n",
    "    \"\"\"\n",
    "    Generate a random value with various data types and potential missing values.\n",
    "\n",
    "    Returns:\n",
    "        str, int, float, or None: A randomly generated value, which can be a string, integer, float,\n",
    "        or None (representing a missing value).\n",
    "\n",
    "    Description:\n",
    "        This function generates random values with different data types and the possibility of missing values.\n",
    "        - 10% chance of returning a missing value (None).\n",
    "        - 20% chance of returning a string consisting of 5 random special characters.\n",
    "        - 50% chance of returning a string consisting of 10 random alphanumeric characters.\n",
    "        - 20% chance of returning either a random integer between 1 and 1000 (inclusive) or\n",
    "          a random float between 0.1 and 1000.0 (inclusive).\n",
    "\n",
    "    Example:\n",
    "        Possible outputs:\n",
    "        - 'ABc!@#' (string with special characters)\n",
    "        - 123 (integer)\n",
    "        - 456.789 (float)\n",
    "        - None (missing value)\n",
    "    \"\"\"\n",
    "    \n",
    "    # 10% chance of missing value\n",
    "    if random() < 0.1:  \n",
    "        return nan\n",
    "    # 20% chance of special character\n",
    "    elif random() < 0.2:  \n",
    "        return ''.join(choice(punctuation) for _ in range(5))\n",
    "    # 50% chance of string\n",
    "    elif random() < 0.5:  \n",
    "        return ''.join(choice(ascii_letters) for _ in range(10))\n",
    "     # 20% chance of number (integer or float)\n",
    "    else: \n",
    "        return choice([randint(1, 1000), uniform(0.1, 1000.0)])\n",
    "    "
   ]
  },
  {
   "cell_type": "code",
   "execution_count": 10,
   "id": "cac3359b",
   "metadata": {},
   "outputs": [],
   "source": [
    "def generate_and_save_large_dataframe():\n",
    "    \"\"\"\n",
    "    Generate a large Pandas DataFrame with random data and save it to a CSV file when it exceeds 2GB in size.\n",
    "\n",
    "    Description:\n",
    "        This function generates random data and creates a Pandas DataFrame. It keeps adding rows to the DataFrame\n",
    "        until its size exceeds 2GB. Once the size limit is reached, the DataFrame is saved to a CSV file\n",
    "        with a filename indicating the size of the dataset in millions of rows (e.g., 'mock_dataset_6M.csv').\n",
    "\n",
    "    Note:\n",
    "        The function uses the `generate_random_value` function to create random data.\n",
    "\n",
    "    Returns:\n",
    "        None\n",
    "    \"\"\"\n",
    "    data = {}\n",
    "    num_columns = 25\n",
    "    num_rows = 6000000\n",
    "\n",
    "    while True:\n",
    "        # Generate dict substructure for a Pandas dataframe\n",
    "        for i in range(num_columns):\n",
    "            column_name = f'column_{i+1}'\n",
    "            data[column_name] = [generate_random_value() for _ in range(num_rows)]\n",
    "\n",
    "        # Create a Pandas DataFrame\n",
    "        df = DataFrame(data)\n",
    "        df_size_bytes = df.memory_usage(index=True).sum()\n",
    "\n",
    "        # Check size of dataframe: if > than 2GB, save the file\n",
    "        if df_size_bytes > 2 * 1073741824: \n",
    "            filename = f'mock_dataset_{num_rows//1000000}M.csv'\n",
    "            df.to_csv(filename, index=False)\n",
    "            print(f\"Saved DataFrame to {filename}\")\n",
    "            break  \n",
    "        # Else, add another 2000000 rows to the df\n",
    "        else:\n",
    "            del df \n",
    "            num_rows += 2000000\n"
   ]
  },
  {
   "cell_type": "markdown",
   "id": "187aa733",
   "metadata": {},
   "source": [
    "## Decide Library to Use to Speed Up Validation"
   ]
  },
  {
   "cell_type": "code",
   "execution_count": 11,
   "id": "4aa5be45",
   "metadata": {},
   "outputs": [],
   "source": [
    "## > Pandas\n",
    "\n",
    "def load_csv_with_pandas(file_path):\n",
    "    \"\"\"\n",
    "    Load a CSV file using Pandas and measure the loading time.\n",
    "\n",
    "    Parameters:\n",
    "        file_path (str): The path to the CSV file.\n",
    "\n",
    "    Returns:\n",
    "        float: The time taken to load the CSV file using Pandas (in seconds).\n",
    "    \"\"\"\n",
    "    start_time1 = time()\n",
    "    df = read_csv(file_path)\n",
    "    end_time1 = time() - start_time1\n",
    "    print(end_time1)\n",
    "    return df"
   ]
  },
  {
   "cell_type": "code",
   "execution_count": 12,
   "id": "3041ae4d",
   "metadata": {},
   "outputs": [],
   "source": [
    "## > Dask\n",
    "\n",
    "def load_csv_with_dask(file_path):\n",
    "    \"\"\"\n",
    "    Load a CSV file using Dask and measure the loading time.\n",
    "\n",
    "    Parameters:\n",
    "        file_path (str): The path to the CSV file.\n",
    "\n",
    "    Returns:\n",
    "        float: The time taken to load the CSV file using Dask (in seconds).\n",
    "    \"\"\"\n",
    "    start_time2 = time()\n",
    "    ddf = dd.read_csv(file_path)\n",
    "    end_time2 = time() - start_time2\n",
    "    print(end_time2)\n",
    "    return ddf\n"
   ]
  },
  {
   "cell_type": "code",
   "execution_count": 17,
   "id": "560febbf",
   "metadata": {},
   "outputs": [
    {
     "name": "stderr",
     "output_type": "stream",
     "text": [
      "2024-01-13 16:26:42,586\tINFO worker.py:1724 -- Started a local Ray instance.\n"
     ]
    },
    {
     "data": {
      "application/vnd.jupyter.widget-view+json": {
       "model_id": "631a40318e09447ba65d78ac76f8267f",
       "version_major": 2,
       "version_minor": 0
      },
      "text/html": [
       "<div class=\"lm-Widget p-Widget lm-Panel p-Panel jp-Cell-outputWrapper\">\n",
       "    <div style=\"margin-left: 50px;display: flex;flex-direction: row;align-items: center\">\n",
       "        <div class=\"jp-RenderedHTMLCommon\" style=\"display: flex; flex-direction: row;\">\n",
       "  <svg viewBox=\"0 0 567 224\" fill=\"none\" xmlns=\"http://www.w3.org/2000/svg\" style=\"height: 3em;\">\n",
       "    <g clip-path=\"url(#clip0_4338_178347)\">\n",
       "        <path d=\"M341.29 165.561H355.29L330.13 129.051C345.63 123.991 354.21 112.051 354.21 94.2307C354.21 71.3707 338.72 58.1807 311.88 58.1807H271V165.561H283.27V131.661H311.8C314.25 131.661 316.71 131.501 319.01 131.351L341.25 165.561H341.29ZM283.29 119.851V70.0007H311.82C331.3 70.0007 342.34 78.2907 342.34 94.5507C342.34 111.271 331.34 119.861 311.82 119.861L283.29 119.851ZM451.4 138.411L463.4 165.561H476.74L428.74 58.1807H416L367.83 165.561H380.83L392.83 138.411H451.4ZM446.19 126.601H398L422 72.1407L446.24 126.601H446.19ZM526.11 128.741L566.91 58.1807H554.35L519.99 114.181L485.17 58.1807H472.44L514.01 129.181V165.541H526.13V128.741H526.11Z\" fill=\"var(--jp-ui-font-color0)\"/>\n",
       "        <path d=\"M82.35 104.44C84.0187 97.8827 87.8248 92.0678 93.1671 87.9146C98.5094 83.7614 105.083 81.5067 111.85 81.5067C118.617 81.5067 125.191 83.7614 130.533 87.9146C135.875 92.0678 139.681 97.8827 141.35 104.44H163.75C164.476 101.562 165.622 98.8057 167.15 96.2605L127.45 56.5605C121.071 60.3522 113.526 61.6823 106.235 60.3005C98.9443 58.9187 92.4094 54.9203 87.8602 49.0574C83.3109 43.1946 81.0609 35.8714 81.5332 28.4656C82.0056 21.0599 85.1679 14.0819 90.4252 8.8446C95.6824 3.60726 102.672 0.471508 110.08 0.0272655C117.487 -0.416977 124.802 1.86091 130.647 6.4324C136.493 11.0039 140.467 17.5539 141.821 24.8501C143.175 32.1463 141.816 39.6859 138 46.0505L177.69 85.7505C182.31 82.9877 187.58 81.4995 192.962 81.4375C198.345 81.3755 203.648 82.742 208.33 85.3976C213.012 88.0532 216.907 91.9029 219.616 96.5544C222.326 101.206 223.753 106.492 223.753 111.875C223.753 117.258 222.326 122.545 219.616 127.197C216.907 131.848 213.012 135.698 208.33 138.353C203.648 141.009 198.345 142.375 192.962 142.313C187.58 142.251 182.31 140.763 177.69 138L138 177.7C141.808 184.071 143.155 191.614 141.79 198.91C140.424 206.205 136.44 212.75 130.585 217.313C124.731 221.875 117.412 224.141 110.004 223.683C102.596 223.226 95.6103 220.077 90.3621 214.828C85.1139 209.58 81.9647 202.595 81.5072 195.187C81.0497 187.779 83.3154 180.459 87.878 174.605C92.4405 168.751 98.9853 164.766 106.281 163.401C113.576 162.035 121.119 163.383 127.49 167.19L167.19 127.49C165.664 124.941 164.518 122.182 163.79 119.3H141.39C139.721 125.858 135.915 131.673 130.573 135.826C125.231 139.98 118.657 142.234 111.89 142.234C105.123 142.234 98.5494 139.98 93.2071 135.826C87.8648 131.673 84.0587 125.858 82.39 119.3H60C58.1878 126.495 53.8086 132.78 47.6863 136.971C41.5641 141.163 34.1211 142.972 26.7579 142.059C19.3947 141.146 12.6191 137.574 7.70605 132.014C2.79302 126.454 0.0813599 119.29 0.0813599 111.87C0.0813599 104.451 2.79302 97.2871 7.70605 91.7272C12.6191 86.1673 19.3947 82.5947 26.7579 81.6817C34.1211 80.7686 41.5641 82.5781 47.6863 86.7696C53.8086 90.9611 58.1878 97.2456 60 104.44H82.35ZM100.86 204.32C103.407 206.868 106.759 208.453 110.345 208.806C113.93 209.159 117.527 208.258 120.522 206.256C123.517 204.254 125.725 201.276 126.771 197.828C127.816 194.38 127.633 190.677 126.253 187.349C124.874 184.021 122.383 181.274 119.205 179.577C116.027 177.88 112.359 177.337 108.826 178.042C105.293 178.746 102.113 180.654 99.8291 183.44C97.5451 186.226 96.2979 189.718 96.3 193.32C96.2985 195.364 96.7006 197.388 97.4831 199.275C98.2656 201.163 99.4132 202.877 100.86 204.32ZM204.32 122.88C206.868 120.333 208.453 116.981 208.806 113.396C209.159 109.811 208.258 106.214 206.256 103.219C204.254 100.223 201.275 98.0151 197.827 96.97C194.38 95.9249 190.676 96.1077 187.348 97.4873C184.02 98.8669 181.274 101.358 179.577 104.536C177.879 107.714 177.337 111.382 178.041 114.915C178.746 118.448 180.653 121.627 183.439 123.911C186.226 126.195 189.717 127.443 193.32 127.44C195.364 127.443 197.388 127.042 199.275 126.259C201.163 125.476 202.878 124.328 204.32 122.88ZM122.88 19.4205C120.333 16.8729 116.981 15.2876 113.395 14.9347C109.81 14.5817 106.213 15.483 103.218 17.4849C100.223 19.4868 98.0146 22.4654 96.9696 25.9131C95.9245 29.3608 96.1073 33.0642 97.4869 36.3922C98.8665 39.7202 101.358 42.4668 104.535 44.1639C107.713 45.861 111.381 46.4036 114.914 45.6992C118.447 44.9949 121.627 43.0871 123.911 40.301C126.195 37.515 127.442 34.0231 127.44 30.4205C127.44 28.3772 127.038 26.3539 126.255 24.4664C125.473 22.5788 124.326 20.8642 122.88 19.4205ZM19.42 100.86C16.8725 103.408 15.2872 106.76 14.9342 110.345C14.5813 113.93 15.4826 117.527 17.4844 120.522C19.4863 123.518 22.4649 125.726 25.9127 126.771C29.3604 127.816 33.0638 127.633 36.3918 126.254C39.7198 124.874 42.4664 122.383 44.1635 119.205C45.8606 116.027 46.4032 112.359 45.6988 108.826C44.9944 105.293 43.0866 102.114 40.3006 99.8296C37.5145 97.5455 34.0227 96.2983 30.42 96.3005C26.2938 96.3018 22.337 97.9421 19.42 100.86ZM100.86 100.86C98.3125 103.408 96.7272 106.76 96.3742 110.345C96.0213 113.93 96.9226 117.527 98.9244 120.522C100.926 123.518 103.905 125.726 107.353 126.771C110.8 127.816 114.504 127.633 117.832 126.254C121.16 124.874 123.906 122.383 125.604 119.205C127.301 116.027 127.843 112.359 127.139 108.826C126.434 105.293 124.527 102.114 121.741 99.8296C118.955 97.5455 115.463 96.2983 111.86 96.3005C109.817 96.299 107.793 96.701 105.905 97.4835C104.018 98.2661 102.303 99.4136 100.86 100.86Z\" fill=\"#00AEEF\"/>\n",
       "    </g>\n",
       "    <defs>\n",
       "        <clipPath id=\"clip0_4338_178347\">\n",
       "            <rect width=\"566.93\" height=\"223.75\" fill=\"white\"/>\n",
       "        </clipPath>\n",
       "    </defs>\n",
       "  </svg>\n",
       "</div>\n",
       "\n",
       "        <table class=\"jp-RenderedHTMLCommon\" style=\"border-collapse: collapse;color: var(--jp-ui-font-color1);font-size: var(--jp-ui-font-size1);\">\n",
       "    <tr>\n",
       "        <td style=\"text-align: left\"><b>Python version:</b></td>\n",
       "        <td style=\"text-align: left\"><b>3.11.7</b></td>\n",
       "    </tr>\n",
       "    <tr>\n",
       "        <td style=\"text-align: left\"><b>Ray version:</b></td>\n",
       "        <td style=\"text-align: left\"><b>2.9.0</b></td>\n",
       "    </tr>\n",
       "    \n",
       "</table>\n",
       "\n",
       "    </div>\n",
       "</div>\n"
      ],
      "text/plain": [
       "RayContext(dashboard_url='', python_version='3.11.7', ray_version='2.9.0', ray_commit='9be5a16e3ccad0710bba08d0f75e9ff774ae6880', protocol_version=None)"
      ]
     },
     "execution_count": 17,
     "metadata": {},
     "output_type": "execute_result"
    }
   ],
   "source": [
    "## > Ray\n",
    "\n",
    "ray.init(runtime_env={'env_vars': {'__MODIN_AUTOIMPORT_PANDAS__': '1'}})\n"
   ]
  },
  {
   "cell_type": "code",
   "execution_count": 18,
   "id": "c17183a4",
   "metadata": {},
   "outputs": [],
   "source": [
    "## > Modin\n",
    "\n",
    "def load_csv_with_modin(file_path):\n",
    "    \"\"\"\n",
    "    Load a CSV file using Modin and measure the loading time.\n",
    "\n",
    "    Parameters:\n",
    "        file_path (str): The path to the CSV file.\n",
    "\n",
    "    Returns:\n",
    "        float: The time taken to load the CSV file using Modin (in seconds).\n",
    "    \"\"\"\n",
    "    start_time3 = time()\n",
    "    mdf = mpd.read_csv(file_path)\n",
    "    end_time3 = time() - start_time3\n",
    "    print(end_time3)\n",
    "    return mdf\n"
   ]
  },
  {
   "cell_type": "markdown",
   "id": "80d70d0d",
   "metadata": {},
   "source": [
    "# Automated Data Validation Pipeline: Using Dask"
   ]
  },
  {
   "cell_type": "markdown",
   "id": "4d931696",
   "metadata": {},
   "source": [
    "## Utility functions"
   ]
  },
  {
   "cell_type": "code",
   "execution_count": 19,
   "id": "459d6c47",
   "metadata": {},
   "outputs": [],
   "source": [
    "\n",
    "def read_config_file(filepath):\n",
    "    \n",
    "    \"\"\"\n",
    "    Read and parse a YAML configuration file.\n",
    "\n",
    "    Parameters:\n",
    "        filepath (str): The path to the YAML configuration file.\n",
    "\n",
    "    Returns:\n",
    "        dict: A dictionary containing the parsed configuration data.\n",
    "    \"\"\"\n",
    "    \n",
    "    # Open specified filepath\n",
    "    with open(filepath, 'r') as datacreek:\n",
    "        # Try-Catch for YAMLError\n",
    "        try:\n",
    "            return safe_load(datacreek)\n",
    "        except YAMLError as exc:\n",
    "            # Logging library error sent to 'stdout'\n",
    "            error(exc)\n",
    "            \n",
    "\n",
    "def replacer(string, char):\n",
    "    \"\"\"\n",
    "    Replace consecutive instances of a character in a string with a single instance.\n",
    "\n",
    "    Parameters:\n",
    "        string (str): The input string.\n",
    "        char (str): The character to be replaced.\n",
    "\n",
    "    Returns:\n",
    "        str: The input string with consecutive instances of the character replaced.\n",
    "    \"\"\"\n",
    "    \n",
    "    # Regex pattern for 2 or more instances\n",
    "    pattern = char + '{2,}'\n",
    "    \n",
    "    # Sub function to replace specified char\n",
    "    string = sub(pattern, char, string)\n",
    "    \n",
    "    # Returns the string with replaced char\n",
    "    return string\n",
    "\n",
    "def col_header_val(df, table_config):\n",
    "    \"\"\"\n",
    "    Validate and standardize column names in a DataFrame based on a table configuration.\n",
    "\n",
    "    Parameters:\n",
    "        df (dd.DataFrame): The Dask DataFrame to be validated.\n",
    "        table_config (dict): The table configuration dictionary.\n",
    "\n",
    "    Returns:\n",
    "        bool: True if validation passes, False otherwise.\n",
    "    \"\"\"\n",
    "    \n",
    "    # Convert all strings to lowercase\n",
    "    df.columns = df.columns.str.lower()\n",
    " \n",
    "    # Replace all whitespce at the start of column names\n",
    "    df.columns = df.columns.str.replace('[^\\w]', '_', regex=True)\n",
    "    \n",
    "    # Removes underscores from beginning & end of column names\n",
    "    df.columns = list(map(lambda x: x.strip('_'), list(df.columns)))\n",
    "   \n",
    "    # Replaces 2 or more consecutive underscores with a single underscore\n",
    "    df.columns = list(map(lambda x: replacer(x, '_'), list(df.columns)))\n",
    "    \n",
    "    # Converts expected col_names for 'table_config' to ensure case insensitivity during comaparison\n",
    "    expected_col = list(map(lambda x: x.lower(), table_config['columns']))\n",
    "   \n",
    "  \n",
    "    # Converts all column names in df once again. Ensures case insensitivity when comparing with expected col_names\n",
    "    df.columns = list(map(lambda x: x.lower(), list(df.columns)))\n",
    "    \n",
    "    # Sort the DataFrame by multiple columns\n",
    "    df = df[table_config['columns']]\n",
    "\n",
    "    if len(df.columns) == len(expected_col) and list(expected_col) == list(df.columns):\n",
    "        print('column namd and column length validation passed')\n",
    "        return True\n",
    "\n",
    "    # If the above is false, then we check what the differences are between df.col and exp_col and print them\n",
    "    else:\n",
    "        print('column name and column length validation failed')\n",
    "        # Uses set operations for taking the difference between df.col and exp_col\n",
    "        mismatched_columns_file = list(set(df.columns).difference(expected_col))\n",
    "        print('The following YAML columns are not in the YAML file', mismatched_columns_file )\n",
    "        # Uses set operations to check diff between exp_col and df_col\n",
    "        missing_yaml_file = list(set(expected_col).difference(df.columns))\n",
    "        print('The following YAML columns are not in the uploaded file', missing_yaml_file)\n",
    "        # log results\n",
    "        info(f'df columns: {df.columns}')\n",
    "        info(f'expected columns: {expected_col}')\n",
    "        return False\n",
    "\n",
    "\n",
    "def generate_yaml_config(file_type, file_name, table_name, columns, in_del, out_del):\n",
    "    \"\"\"\n",
    "    Generate a YAML configuration file for data processing and save it.\n",
    "\n",
    "    Parameters:\n",
    "        file_type (str): The type of the data file (e.g., 'csv', 'parquet').\n",
    "        file_name (str): The name of the data file.\n",
    "        table_name (str): The name of the data processing table.\n",
    "        columns (list): A list of column names.\n",
    "        in_del (str): The inbound delimiter character.\n",
    "        out_del (str): The outbound delimiter character.\n",
    "\n",
    "    Returns:\n",
    "        tuple: A tuple containing the generated file_name, file_type, and table_name.\n",
    "    \"\"\"\n",
    "    # Create a configuration dictionary\n",
    "    config_data = {\n",
    "        'file_type': file_type,\n",
    "        'dataset_name': 'testfile',\n",
    "        'file_name': file_name,\n",
    "        'table_name': table_name,\n",
    "        'inbound_delimiter': in_del,\n",
    "        'outbound_delimiter': out_del,\n",
    "        'skip_leading_rows': 1,\n",
    "        'columns': columns,\n",
    "    }\n",
    "\n",
    "    # Convert the dictionary to YAML format\n",
    "    yaml_config = dump(config_data, default_flow_style=False)\n",
    "\n",
    "    # Save the YAML configuration to a file\n",
    "    with open(f'{table_name}_config.yaml', 'w') as yaml_file:\n",
    "        yaml_file.write(yaml_config)\n",
    "        \n",
    "    return file_name, file_type, table_name\n",
    "\n",
    "\n",
    "\n",
    "\n",
    "def read_file(file_type, source_file):\n",
    "    \"\"\"\n",
    "    Read data from a file into a Dask DataFrame based on the file type.\n",
    "\n",
    "    Parameters:\n",
    "        file_type (str): The type of the data file (e.g., 'csv', 'excel', 'parquet').\n",
    "        source_file (str): The path to the source data file.\n",
    "\n",
    "    Returns:\n",
    "        dd.DataFrame: A Dask DataFrame containing the data from the file.\n",
    "    \"\"\"\n",
    "    if file_type == 'csv':\n",
    "        return dd.read_csv(source_file)\n",
    "    elif file_type == 'excel':\n",
    "        return dd.read_excel(source_file)\n",
    "    elif file_type == 'parquet':\n",
    "        return dd.read_parquet(source_file)\n",
    "    # Add more file types as needed...\n",
    "    \n",
    "    \n",
    "\n",
    "\n",
    "def save_file(df, file_type, target_path):\n",
    "    \"\"\"\n",
    "    Save a Dask DataFrame to a file with the specified file type.\n",
    "\n",
    "    Parameters:\n",
    "        df (dd.DataFrame): The Dask DataFrame to be saved.\n",
    "        file_type (str): The file type (e.g., 'csv', 'parquet', 'excel').\n",
    "        target_path (str): The path where the file should be saved.\n",
    "\n",
    "    Returns:\n",
    "        bool: True if the file was saved successfully or already exists, False otherwise.\n",
    "    \"\"\"\n",
    "    try:\n",
    "        if file_type == 'csv':\n",
    "            if path.exists(target_path):\n",
    "                print(f\"File already exists: {target_path}\")\n",
    "            else:\n",
    "                df.to_csv(target_path, single_file=True)\n",
    "        elif file_type == 'excel':\n",
    "            if path.exists(target_path):\n",
    "                print(f\"File already exists: {target_path}\")\n",
    "            else:\n",
    "                df.to_parquet(target_path)\n",
    "        elif file_type == 'parquet':\n",
    "            if path.exists(target_path):\n",
    "                print(f\"File already exists: {target_path}\")\n",
    "            else:\n",
    "                df.to_excel(target_path, index=False)\n",
    "        # Add more file types as needed\n",
    "        else:\n",
    "            print(f\"Unsupported file type: {file_type}\")\n",
    "            return False\n",
    "\n",
    "        print(f\"File saved successfully: {target_path}\")\n",
    "        return True\n",
    "    except Exception as e:\n",
    "        print(f\"Error saving file: {e}\")\n",
    "        return False\n",
    "\n"
   ]
  },
  {
   "cell_type": "markdown",
   "id": "f0151444",
   "metadata": {},
   "source": [
    "## Main Script"
   ]
  },
  {
   "cell_type": "code",
   "execution_count": null,
   "id": "69e03ce7-c51e-4ee5-a31c-3c1bf3ae1169",
   "metadata": {},
   "outputs": [],
   "source": [
    "# Create 2.6GB dataset. Time to create: ~20min\n",
    "generate_and_save_large_dataframe()"
   ]
  },
  {
   "cell_type": "code",
   "execution_count": 23,
   "id": "6bb034ef-03a8-4b75-9db8-2f170ffc2f44",
   "metadata": {},
   "outputs": [
    {
     "data": {
      "text/plain": [
       "56.559773206710815"
      ]
     },
     "execution_count": 23,
     "metadata": {},
     "output_type": "execute_result"
    }
   ],
   "source": [
    "# Load 2.6Gb dataset with pandas and evaluate time taken\n",
    "load_csv_with_pandas('./mock_dataset_12M.csv')"
   ]
  },
  {
   "cell_type": "code",
   "execution_count": 24,
   "id": "026712dd-e56d-4bf9-872e-5dec1b700c1e",
   "metadata": {},
   "outputs": [
    {
     "data": {
      "text/plain": [
       "0.02824115753173828"
      ]
     },
     "execution_count": 24,
     "metadata": {},
     "output_type": "execute_result"
    }
   ],
   "source": [
    "load_csv_with_dask('./mock_dataset_12M.csv')"
   ]
  },
  {
   "cell_type": "code",
   "execution_count": 29,
   "id": "496c3673-4376-4315-a858-745820960088",
   "metadata": {},
   "outputs": [
    {
     "data": {
      "text/plain": [
       "33.292614698410034"
      ]
     },
     "execution_count": 29,
     "metadata": {},
     "output_type": "execute_result"
    }
   ],
   "source": [
    "load_csv_with_modin('./mock_dataset_12M.csv')"
   ]
  },
  {
   "cell_type": "code",
   "execution_count": 32,
   "id": "c0e21c03",
   "metadata": {},
   "outputs": [
    {
     "name": "stderr",
     "output_type": "stream",
     "text": [
      "ERROR:root:expected '<document start>', but found '<scalar>'\n",
      "  in \"mock_dataset_12M.csv\", line 17, column 1\n"
     ]
    },
    {
     "ename": "TypeError",
     "evalue": "'NoneType' object is not subscriptable",
     "output_type": "error",
     "traceback": [
      "\u001b[1;31m---------------------------------------------------------------------------\u001b[0m",
      "\u001b[1;31mTypeError\u001b[0m                                 Traceback (most recent call last)",
      "Cell \u001b[1;32mIn[32], line 47\u001b[0m\n\u001b[0;32m     44\u001b[0m config_data \u001b[38;5;241m=\u001b[39m read_config_file(file_name)\n\u001b[0;32m     46\u001b[0m \u001b[38;5;66;03m# Read file using config file\u001b[39;00m\n\u001b[1;32m---> 47\u001b[0m file_type \u001b[38;5;241m=\u001b[39m \u001b[43mconfig_data\u001b[49m\u001b[43m[\u001b[49m\u001b[38;5;124;43m'\u001b[39;49m\u001b[38;5;124;43mfile_type\u001b[39;49m\u001b[38;5;124;43m'\u001b[39;49m\u001b[43m]\u001b[49m\n\u001b[0;32m     48\u001b[0m source_file \u001b[38;5;241m=\u001b[39m \u001b[38;5;124m'\u001b[39m\u001b[38;5;124m./\u001b[39m\u001b[38;5;124m'\u001b[39m \u001b[38;5;241m+\u001b[39m config_data[\u001b[38;5;124m'\u001b[39m\u001b[38;5;124mfile_name\u001b[39m\u001b[38;5;124m'\u001b[39m] \u001b[38;5;241m+\u001b[39m \u001b[38;5;124mf\u001b[39m\u001b[38;5;124m'\u001b[39m\u001b[38;5;124m.\u001b[39m\u001b[38;5;132;01m{\u001b[39;00mfile_type\u001b[38;5;132;01m}\u001b[39;00m\u001b[38;5;124m'\u001b[39m\n\u001b[0;32m     50\u001b[0m \u001b[38;5;66;03m# Read the file based on its type\u001b[39;00m\n",
      "\u001b[1;31mTypeError\u001b[0m: 'NoneType' object is not subscriptable"
     ]
    }
   ],
   "source": [
    "### > Main script\n",
    "\n",
    "\n",
    "if __name__ == '__main__':\n",
    "    \n",
    "   \n",
    "    \n",
    "# List of file configurations\n",
    "file_configurations = [\n",
    "\n",
    "    {\n",
    "        'file_name': 'file1',\n",
    "        'file_type': 'csv',\n",
    "        'table_name': 'table1',\n",
    "        'columns': ['col1', 'col2', 'col3'],\n",
    "        'in_del': ',',\n",
    "        'out_del': '|'\n",
    "    },\n",
    "    {\n",
    "        'file_name': 'file2',\n",
    "        'file_type': 'excel',\n",
    "        'table_name': 'table2',\n",
    "        'columns': ['colA', 'colB', 'colC'],\n",
    "        'in_del': '\\t',\n",
    "        'out_del': ','\n",
    "    }\n",
    "\n",
    "    # Add more configurations as needed\n",
    "]\n",
    "\n",
    "# Create a loop to process each configuration\n",
    "for config in file_configurations:\n",
    "    file_name, file_type, table_name = generate_yaml_config(\n",
    "\n",
    "                config['file_type'],\n",
    "                config['file_name'],\n",
    "                config['table_name'],\n",
    "                config['columns'],\n",
    "                config['in_del'],\n",
    "                config['out_del']\n",
    "    )\n",
    "\n",
    "    # Read config file\n",
    "    config_data = read_config_file(file_name)\n",
    "\n",
    "    # Read file using config file\n",
    "    file_type = config_data['file_type']\n",
    "    source_file = './' + config_data['file_name'] + f'.{file_type}'\n",
    "\n",
    "    # Read the file based on its type\n",
    "    ddf = read_file(file_type, source_file)\n",
    "\n",
    "    # Perform column validation\n",
    "    result = col_header_val(ddf, config_data)\n",
    "\n",
    "    if result:\n",
    "        # Define the target file path and file type\n",
    "        target_file_path = f'completed_{config_data[\"file_name\"]}.{config_data[\"file_type\"]}'\n",
    "\n",
    "        # Save the file using the save_file function\n",
    "        save_result = save_file(ddf, config_data[\"file_type\"], target_file_path)\n",
    "\n",
    "        if save_result:\n",
    "            print(f'Successfully processed and saved: {config_data[\"file_name\"]}')\n",
    "        else:\n",
    "            print(f'Error saving the file for: {config_data[\"file_name\"]}')\n",
    "    else:\n",
    "        print(f'Validation failed for: {config_data[\"file_name\"]}')\n",
    "\n",
    "    \n",
    "\n",
    "    "
   ]
  }
 ],
 "metadata": {
  "kernelspec": {
   "display_name": "Python 3 (ipykernel)",
   "language": "python",
   "name": "python3"
  },
  "language_info": {
   "codemirror_mode": {
    "name": "ipython",
    "version": 3
   },
   "file_extension": ".py",
   "mimetype": "text/x-python",
   "name": "python",
   "nbconvert_exporter": "python",
   "pygments_lexer": "ipython3",
   "version": "3.11.7"
  }
 },
 "nbformat": 4,
 "nbformat_minor": 5
}
